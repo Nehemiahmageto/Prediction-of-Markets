{
 "cells": [
  {
   "cell_type": "code",
   "execution_count": 1,
   "metadata": {
    "executionInfo": {
     "elapsed": 477,
     "status": "ok",
     "timestamp": 1675258723576,
     "user": {
      "displayName": "Maria Ogamba",
      "userId": "07447510251688465296"
     },
     "user_tz": -180
    },
    "id": "gS9N7D4OL1xJ"
   },
   "outputs": [],
   "source": [
    "# !pip install yfinance\n",
    "#!pip install pmdarima\n",
    "#!pip install arch"
   ]
  },
  {
   "cell_type": "code",
   "execution_count": 1,
   "metadata": {
    "executionInfo": {
     "elapsed": 3812,
     "status": "ok",
     "timestamp": 1675258730036,
     "user": {
      "displayName": "Maria Ogamba",
      "userId": "07447510251688465296"
     },
     "user_tz": -180
    },
    "id": "mOW-sjAFLoSP"
   },
   "outputs": [],
   "source": [
    "# import all the libraries to be used in this notebook\n",
    "import math\n",
    "import pandas as pd\n",
    "import numpy as np\n",
    "import plotly.graph_objects as go\n",
    "import yfinance as yf\n",
    "import plotly.express as px\n",
    "from pandas.plotting import lag_plot\n",
    "from datetime import datetime\n",
    "from sklearn.metrics import mean_squared_error\n",
    "from statsmodels.tsa.arima_model import ARIMA\n",
    "import matplotlib.pyplot as plt\n",
    "import plotly.figure_factory as ff\n",
    "from statsmodels.tsa.stattools import adfuller\n",
    "from numpy import log\n",
    "from statsmodels.tsa.arima_model import ARIMA\n",
    "from pmdarima.arima import auto_arima\n",
    "import statsmodels.api as sm\n",
    "import statsmodels.tsa.api as smt\n",
    "import arch\n",
    "import warnings\n",
    "warnings.filterwarnings('ignore')"
   ]
  },
  {
   "cell_type": "code",
   "execution_count": 2,
   "metadata": {
    "colab": {
     "base_uri": "https://localhost:8080/",
     "height": 255
    },
    "executionInfo": {
     "elapsed": 1087,
     "status": "ok",
     "timestamp": 1675258734654,
     "user": {
      "displayName": "Maria Ogamba",
      "userId": "07447510251688465296"
     },
     "user_tz": -180
    },
    "id": "-LwOsZuSLoSe",
    "outputId": "fe086357-b431-41c7-b193-32c879a9685d"
   },
   "outputs": [
    {
     "name": "stdout",
     "output_type": "stream",
     "text": [
      "[*********************100%***********************]  1 of 1 completed\n"
     ]
    },
    {
     "data": {
      "text/html": [
       "<div>\n",
       "<style scoped>\n",
       "    .dataframe tbody tr th:only-of-type {\n",
       "        vertical-align: middle;\n",
       "    }\n",
       "\n",
       "    .dataframe tbody tr th {\n",
       "        vertical-align: top;\n",
       "    }\n",
       "\n",
       "    .dataframe thead th {\n",
       "        text-align: right;\n",
       "    }\n",
       "</style>\n",
       "<table border=\"1\" class=\"dataframe\">\n",
       "  <thead>\n",
       "    <tr style=\"text-align: right;\">\n",
       "      <th></th>\n",
       "      <th>Open</th>\n",
       "      <th>High</th>\n",
       "      <th>Low</th>\n",
       "      <th>Close</th>\n",
       "      <th>Adj Close</th>\n",
       "      <th>Volume</th>\n",
       "    </tr>\n",
       "    <tr>\n",
       "      <th>Date</th>\n",
       "      <th></th>\n",
       "      <th></th>\n",
       "      <th></th>\n",
       "      <th></th>\n",
       "      <th></th>\n",
       "      <th></th>\n",
       "    </tr>\n",
       "  </thead>\n",
       "  <tbody>\n",
       "    <tr>\n",
       "      <th>2013-01-02 00:00:00-05:00</th>\n",
       "      <td>19.779285</td>\n",
       "      <td>19.821428</td>\n",
       "      <td>19.343929</td>\n",
       "      <td>19.608213</td>\n",
       "      <td>16.862829</td>\n",
       "      <td>560518000</td>\n",
       "    </tr>\n",
       "    <tr>\n",
       "      <th>2013-01-03 00:00:00-05:00</th>\n",
       "      <td>19.567142</td>\n",
       "      <td>19.631071</td>\n",
       "      <td>19.321428</td>\n",
       "      <td>19.360714</td>\n",
       "      <td>16.649981</td>\n",
       "      <td>352965200</td>\n",
       "    </tr>\n",
       "    <tr>\n",
       "      <th>2013-01-04 00:00:00-05:00</th>\n",
       "      <td>19.177500</td>\n",
       "      <td>19.236786</td>\n",
       "      <td>18.779642</td>\n",
       "      <td>18.821428</td>\n",
       "      <td>16.186197</td>\n",
       "      <td>594333600</td>\n",
       "    </tr>\n",
       "    <tr>\n",
       "      <th>2013-01-07 00:00:00-05:00</th>\n",
       "      <td>18.642857</td>\n",
       "      <td>18.903570</td>\n",
       "      <td>18.400000</td>\n",
       "      <td>18.710714</td>\n",
       "      <td>16.090986</td>\n",
       "      <td>484156400</td>\n",
       "    </tr>\n",
       "    <tr>\n",
       "      <th>2013-01-08 00:00:00-05:00</th>\n",
       "      <td>18.900356</td>\n",
       "      <td>18.996071</td>\n",
       "      <td>18.616072</td>\n",
       "      <td>18.761070</td>\n",
       "      <td>16.134289</td>\n",
       "      <td>458707200</td>\n",
       "    </tr>\n",
       "  </tbody>\n",
       "</table>\n",
       "</div>"
      ],
      "text/plain": [
       "                                Open       High        Low      Close  \\\n",
       "Date                                                                    \n",
       "2013-01-02 00:00:00-05:00  19.779285  19.821428  19.343929  19.608213   \n",
       "2013-01-03 00:00:00-05:00  19.567142  19.631071  19.321428  19.360714   \n",
       "2013-01-04 00:00:00-05:00  19.177500  19.236786  18.779642  18.821428   \n",
       "2013-01-07 00:00:00-05:00  18.642857  18.903570  18.400000  18.710714   \n",
       "2013-01-08 00:00:00-05:00  18.900356  18.996071  18.616072  18.761070   \n",
       "\n",
       "                           Adj Close     Volume  \n",
       "Date                                             \n",
       "2013-01-02 00:00:00-05:00  16.862829  560518000  \n",
       "2013-01-03 00:00:00-05:00  16.649981  352965200  \n",
       "2013-01-04 00:00:00-05:00  16.186197  594333600  \n",
       "2013-01-07 00:00:00-05:00  16.090986  484156400  \n",
       "2013-01-08 00:00:00-05:00  16.134289  458707200  "
      ]
     },
     "execution_count": 2,
     "metadata": {},
     "output_type": "execute_result"
    }
   ],
   "source": [
    "# retrieve stock data from yahoo finance\n",
    "\n",
    "apple = 'aapl'\n",
    "df = yf.download(apple, start='2013-01-01', end='2022-12-31')\n",
    "\n",
    "df.head()\n"
   ]
  },
  {
   "cell_type": "code",
   "execution_count": 3,
   "metadata": {},
   "outputs": [
    {
     "data": {
      "text/html": [
       "<div>\n",
       "<style scoped>\n",
       "    .dataframe tbody tr th:only-of-type {\n",
       "        vertical-align: middle;\n",
       "    }\n",
       "\n",
       "    .dataframe tbody tr th {\n",
       "        vertical-align: top;\n",
       "    }\n",
       "\n",
       "    .dataframe thead th {\n",
       "        text-align: right;\n",
       "    }\n",
       "</style>\n",
       "<table border=\"1\" class=\"dataframe\">\n",
       "  <thead>\n",
       "    <tr style=\"text-align: right;\">\n",
       "      <th></th>\n",
       "      <th>Open</th>\n",
       "      <th>High</th>\n",
       "      <th>Low</th>\n",
       "      <th>Close</th>\n",
       "      <th>Adj Close</th>\n",
       "      <th>Volume</th>\n",
       "    </tr>\n",
       "    <tr>\n",
       "      <th>Date</th>\n",
       "      <th></th>\n",
       "      <th></th>\n",
       "      <th></th>\n",
       "      <th></th>\n",
       "      <th></th>\n",
       "      <th></th>\n",
       "    </tr>\n",
       "  </thead>\n",
       "  <tbody>\n",
       "    <tr>\n",
       "      <th>2013-01-02 00:00:00-05:00</th>\n",
       "      <td>19.779285</td>\n",
       "      <td>19.821428</td>\n",
       "      <td>19.343929</td>\n",
       "      <td>19.608213</td>\n",
       "      <td>16.862829</td>\n",
       "      <td>560518000</td>\n",
       "    </tr>\n",
       "    <tr>\n",
       "      <th>2013-01-03 00:00:00-05:00</th>\n",
       "      <td>19.567142</td>\n",
       "      <td>19.631071</td>\n",
       "      <td>19.321428</td>\n",
       "      <td>19.360714</td>\n",
       "      <td>16.649981</td>\n",
       "      <td>352965200</td>\n",
       "    </tr>\n",
       "    <tr>\n",
       "      <th>2013-01-04 00:00:00-05:00</th>\n",
       "      <td>19.177500</td>\n",
       "      <td>19.236786</td>\n",
       "      <td>18.779642</td>\n",
       "      <td>18.821428</td>\n",
       "      <td>16.186197</td>\n",
       "      <td>594333600</td>\n",
       "    </tr>\n",
       "    <tr>\n",
       "      <th>2013-01-07 00:00:00-05:00</th>\n",
       "      <td>18.642857</td>\n",
       "      <td>18.903570</td>\n",
       "      <td>18.400000</td>\n",
       "      <td>18.710714</td>\n",
       "      <td>16.090986</td>\n",
       "      <td>484156400</td>\n",
       "    </tr>\n",
       "    <tr>\n",
       "      <th>2013-01-08 00:00:00-05:00</th>\n",
       "      <td>18.900356</td>\n",
       "      <td>18.996071</td>\n",
       "      <td>18.616072</td>\n",
       "      <td>18.761070</td>\n",
       "      <td>16.134289</td>\n",
       "      <td>458707200</td>\n",
       "    </tr>\n",
       "    <tr>\n",
       "      <th>...</th>\n",
       "      <td>...</td>\n",
       "      <td>...</td>\n",
       "      <td>...</td>\n",
       "      <td>...</td>\n",
       "      <td>...</td>\n",
       "      <td>...</td>\n",
       "    </tr>\n",
       "    <tr>\n",
       "      <th>2022-12-23 00:00:00-05:00</th>\n",
       "      <td>130.919998</td>\n",
       "      <td>132.419998</td>\n",
       "      <td>129.639999</td>\n",
       "      <td>131.860001</td>\n",
       "      <td>131.860001</td>\n",
       "      <td>63814900</td>\n",
       "    </tr>\n",
       "    <tr>\n",
       "      <th>2022-12-27 00:00:00-05:00</th>\n",
       "      <td>131.380005</td>\n",
       "      <td>131.410004</td>\n",
       "      <td>128.720001</td>\n",
       "      <td>130.029999</td>\n",
       "      <td>130.029999</td>\n",
       "      <td>69007800</td>\n",
       "    </tr>\n",
       "    <tr>\n",
       "      <th>2022-12-28 00:00:00-05:00</th>\n",
       "      <td>129.669998</td>\n",
       "      <td>131.029999</td>\n",
       "      <td>125.870003</td>\n",
       "      <td>126.040001</td>\n",
       "      <td>126.040001</td>\n",
       "      <td>85438400</td>\n",
       "    </tr>\n",
       "    <tr>\n",
       "      <th>2022-12-29 00:00:00-05:00</th>\n",
       "      <td>127.989998</td>\n",
       "      <td>130.479996</td>\n",
       "      <td>127.730003</td>\n",
       "      <td>129.610001</td>\n",
       "      <td>129.610001</td>\n",
       "      <td>75703700</td>\n",
       "    </tr>\n",
       "    <tr>\n",
       "      <th>2022-12-30 00:00:00-05:00</th>\n",
       "      <td>128.410004</td>\n",
       "      <td>129.949997</td>\n",
       "      <td>127.430000</td>\n",
       "      <td>129.929993</td>\n",
       "      <td>129.929993</td>\n",
       "      <td>76960600</td>\n",
       "    </tr>\n",
       "  </tbody>\n",
       "</table>\n",
       "<p>2518 rows × 6 columns</p>\n",
       "</div>"
      ],
      "text/plain": [
       "                                 Open        High         Low       Close  \\\n",
       "Date                                                                        \n",
       "2013-01-02 00:00:00-05:00   19.779285   19.821428   19.343929   19.608213   \n",
       "2013-01-03 00:00:00-05:00   19.567142   19.631071   19.321428   19.360714   \n",
       "2013-01-04 00:00:00-05:00   19.177500   19.236786   18.779642   18.821428   \n",
       "2013-01-07 00:00:00-05:00   18.642857   18.903570   18.400000   18.710714   \n",
       "2013-01-08 00:00:00-05:00   18.900356   18.996071   18.616072   18.761070   \n",
       "...                               ...         ...         ...         ...   \n",
       "2022-12-23 00:00:00-05:00  130.919998  132.419998  129.639999  131.860001   \n",
       "2022-12-27 00:00:00-05:00  131.380005  131.410004  128.720001  130.029999   \n",
       "2022-12-28 00:00:00-05:00  129.669998  131.029999  125.870003  126.040001   \n",
       "2022-12-29 00:00:00-05:00  127.989998  130.479996  127.730003  129.610001   \n",
       "2022-12-30 00:00:00-05:00  128.410004  129.949997  127.430000  129.929993   \n",
       "\n",
       "                            Adj Close     Volume  \n",
       "Date                                              \n",
       "2013-01-02 00:00:00-05:00   16.862829  560518000  \n",
       "2013-01-03 00:00:00-05:00   16.649981  352965200  \n",
       "2013-01-04 00:00:00-05:00   16.186197  594333600  \n",
       "2013-01-07 00:00:00-05:00   16.090986  484156400  \n",
       "2013-01-08 00:00:00-05:00   16.134289  458707200  \n",
       "...                               ...        ...  \n",
       "2022-12-23 00:00:00-05:00  131.860001   63814900  \n",
       "2022-12-27 00:00:00-05:00  130.029999   69007800  \n",
       "2022-12-28 00:00:00-05:00  126.040001   85438400  \n",
       "2022-12-29 00:00:00-05:00  129.610001   75703700  \n",
       "2022-12-30 00:00:00-05:00  129.929993   76960600  \n",
       "\n",
       "[2518 rows x 6 columns]"
      ]
     },
     "execution_count": 3,
     "metadata": {},
     "output_type": "execute_result"
    }
   ],
   "source": [
    "df"
   ]
  },
  {
   "cell_type": "code",
   "execution_count": 4,
   "metadata": {},
   "outputs": [
    {
     "data": {
      "text/plain": [
       "<AxesSubplot:xlabel='Date'>"
      ]
     },
     "execution_count": 4,
     "metadata": {},
     "output_type": "execute_result"
    },
    {
     "data": {
      "image/png": "[encoded data removed]",
      "text/plain": [
       "<Figure size 432x288 with 1 Axes>"
      ]
     },
     "metadata": {
      "needs_background": "light"
     },
     "output_type": "display_data"
    }
   ],
   "source": [
    "df.plot.line(y=\"Close\", use_index=True)"
   ]
  },
  {
   "cell_type": "code",
   "execution_count": 5,
   "metadata": {},
   "outputs": [
    {
     "data": {
      "image/png": "[encoded data removed]",
      "text/plain": [
       "<Figure size 1152x720 with 1 Axes>"
      ]
     },
     "metadata": {
      "needs_background": "light"
     },
     "output_type": "display_data"
    }
   ],
   "source": [
    "### Model Creation\n",
    "price = df[[\"Close\"]]\n",
    "rolLmean = price.rolling(5).mean()\n",
    "rolLstd = price.rolling(5).std()\n",
    "#Plot rolling statistics:\n",
    "fig,ax = plt.subplots(figsize=(16,10))\n",
    "orig = plt.plot(price, color='blue',label='Original')\n",
    "mean = plt.plot(rolLmean, color='red', label='Rolling Mean')\n",
    "std = plt.plot(rolLstd, color='black', label = 'Rolling Std')\n",
    "plt.legend(loc='best')\n",
    "plt.title('Rolling Mean & Standard Deviation')\n",
    "plt.show(block=False)"
   ]
  },
  {
   "cell_type": "code",
   "execution_count": 6,
   "metadata": {},
   "outputs": [
    {
     "data": {
      "text/html": [
       "<div>\n",
       "<style scoped>\n",
       "    .dataframe tbody tr th:only-of-type {\n",
       "        vertical-align: middle;\n",
       "    }\n",
       "\n",
       "    .dataframe tbody tr th {\n",
       "        vertical-align: top;\n",
       "    }\n",
       "\n",
       "    .dataframe thead th {\n",
       "        text-align: right;\n",
       "    }\n",
       "</style>\n",
       "<table border=\"1\" class=\"dataframe\">\n",
       "  <thead>\n",
       "    <tr style=\"text-align: right;\">\n",
       "      <th></th>\n",
       "      <th>Open</th>\n",
       "      <th>High</th>\n",
       "      <th>Low</th>\n",
       "      <th>Close</th>\n",
       "      <th>Adj Close</th>\n",
       "      <th>Volume</th>\n",
       "    </tr>\n",
       "  </thead>\n",
       "  <tbody>\n",
       "    <tr>\n",
       "      <th>count</th>\n",
       "      <td>2518.000000</td>\n",
       "      <td>2518.000000</td>\n",
       "      <td>2518.000000</td>\n",
       "      <td>2518.000000</td>\n",
       "      <td>2518.000000</td>\n",
       "      <td>2.518000e+03</td>\n",
       "    </tr>\n",
       "    <tr>\n",
       "      <th>mean</th>\n",
       "      <td>62.383387</td>\n",
       "      <td>63.087693</td>\n",
       "      <td>61.696664</td>\n",
       "      <td>62.416599</td>\n",
       "      <td>60.637030</td>\n",
       "      <td>1.713540e+08</td>\n",
       "    </tr>\n",
       "    <tr>\n",
       "      <th>std</th>\n",
       "      <td>48.683035</td>\n",
       "      <td>49.322128</td>\n",
       "      <td>48.051043</td>\n",
       "      <td>48.709794</td>\n",
       "      <td>49.248659</td>\n",
       "      <td>1.250498e+08</td>\n",
       "    </tr>\n",
       "    <tr>\n",
       "      <th>min</th>\n",
       "      <td>13.856071</td>\n",
       "      <td>14.271429</td>\n",
       "      <td>13.753571</td>\n",
       "      <td>13.947500</td>\n",
       "      <td>12.064586</td>\n",
       "      <td>3.519590e+07</td>\n",
       "    </tr>\n",
       "    <tr>\n",
       "      <th>25%</th>\n",
       "      <td>26.971250</td>\n",
       "      <td>27.219376</td>\n",
       "      <td>26.705000</td>\n",
       "      <td>26.983750</td>\n",
       "      <td>24.676630</td>\n",
       "      <td>9.188698e+07</td>\n",
       "    </tr>\n",
       "    <tr>\n",
       "      <th>50%</th>\n",
       "      <td>41.353750</td>\n",
       "      <td>41.872499</td>\n",
       "      <td>40.888750</td>\n",
       "      <td>41.313749</td>\n",
       "      <td>39.511665</td>\n",
       "      <td>1.301368e+08</td>\n",
       "    </tr>\n",
       "    <tr>\n",
       "      <th>75%</th>\n",
       "      <td>91.272499</td>\n",
       "      <td>92.881876</td>\n",
       "      <td>90.824377</td>\n",
       "      <td>91.526875</td>\n",
       "      <td>90.122934</td>\n",
       "      <td>2.045116e+08</td>\n",
       "    </tr>\n",
       "    <tr>\n",
       "      <th>max</th>\n",
       "      <td>182.630005</td>\n",
       "      <td>182.940002</td>\n",
       "      <td>179.119995</td>\n",
       "      <td>182.009995</td>\n",
       "      <td>180.959732</td>\n",
       "      <td>1.460852e+09</td>\n",
       "    </tr>\n",
       "  </tbody>\n",
       "</table>\n",
       "</div>"
      ],
      "text/plain": [
       "              Open         High          Low        Close    Adj Close  \\\n",
       "count  2518.000000  2518.000000  2518.000000  2518.000000  2518.000000   \n",
       "mean     62.383387    63.087693    61.696664    62.416599    60.637030   \n",
       "std      48.683035    49.322128    48.051043    48.709794    49.248659   \n",
       "min      13.856071    14.271429    13.753571    13.947500    12.064586   \n",
       "25%      26.971250    27.219376    26.705000    26.983750    24.676630   \n",
       "50%      41.353750    41.872499    40.888750    41.313749    39.511665   \n",
       "75%      91.272499    92.881876    90.824377    91.526875    90.122934   \n",
       "max     182.630005   182.940002   179.119995   182.009995   180.959732   \n",
       "\n",
       "             Volume  \n",
       "count  2.518000e+03  \n",
       "mean   1.713540e+08  \n",
       "std    1.250498e+08  \n",
       "min    3.519590e+07  \n",
       "25%    9.188698e+07  \n",
       "50%    1.301368e+08  \n",
       "75%    2.045116e+08  \n",
       "max    1.460852e+09  "
      ]
     },
     "execution_count": 6,
     "metadata": {},
     "output_type": "execute_result"
    }
   ],
   "source": [
    "df.describe()"
   ]
  },
  {
   "cell_type": "code",
   "execution_count": 7,
   "metadata": {},
   "outputs": [
    {
     "data": {
      "text/plain": [
       "Text(0.5, 1.0, 'Apple Daily Returns Over Time')"
      ]
     },
     "execution_count": 7,
     "metadata": {},
     "output_type": "execute_result"
    },
    {
     "data": {
      "image/png": "[encoded data removed]",
      "text/plain": [
       "<Figure size 1296x1008 with 1 Axes>"
      ]
     },
     "metadata": {
      "needs_background": "light"
     },
     "output_type": "display_data"
    }
   ],
   "source": [
    "# We get the daily return and plot it\n",
    "df['Return'] = 100 * (df['Close'].pct_change())\n",
    "df.dropna(inplace=True)\n",
    "\n",
    "fig,ax = plt.subplots(figsize=(18,14))\n",
    "ax.spines[['top','right']].set_visible(False)\n",
    "plt.plot(df['Return'], label = 'Daily Returns')\n",
    "plt.legend(loc='upper right')\n",
    "plt.title('Apple Daily Returns Over Time')"
   ]
  },
  {
   "cell_type": "code",
   "execution_count": 8,
   "metadata": {},
   "outputs": [
    {
     "name": "stdout",
     "output_type": "stream",
     "text": [
      "╒═══════╤══════════════════════╤════════════════════════╤═══════════════════════╕\n",
      "│       │  Daily Volatility %  │  Monthly Volatility %  │  Annual Volatility %  │\n",
      "╞═══════╪══════════════════════╪════════════════════════╪═══════════════════════╡\n",
      "│ Apple │         1.83         │          8.39          │         29.08         │\n",
      "╘═══════╧══════════════════════╧════════════════════════╧═══════════════════════╛\n"
     ]
    }
   ],
   "source": [
    "#Getting the volatility over time\n",
    "#We use 21 as the average number of trading days in a month and 252 for a year\n",
    "daily_volatility = df['Return'].std()\n",
    "\n",
    "monthly_volatility = math.sqrt(21) * daily_volatility\n",
    "\n",
    "annual_volatility = math.sqrt(252) * daily_volatility\n",
    "\n",
    "from tabulate import tabulate\n",
    "\n",
    "print(tabulate([['Apple',daily_volatility,monthly_volatility,annual_volatility]],headers = ['Daily Volatility %', 'Monthly Volatility %', 'Annual Volatility %'],tablefmt = 'fancy_grid',stralign='center',numalign='center',floatfmt=\".2f\"))"
   ]
  },
  {
   "cell_type": "code",
   "execution_count": 9,
   "metadata": {},
   "outputs": [
    {
     "name": "stdout",
     "output_type": "stream",
     "text": [
      "Fail to reject the null hypothesis - Time series is not stationary\n"
     ]
    }
   ],
   "source": [
    "# Test for stationarity\n",
    "# Perform the ADF test\n",
    "result =adfuller(df['Return'])\n",
    "\n",
    "# Extract the test statistic and critical values\n",
    "test_statistic = result[0]\n",
    "critical_values = result[4]\n",
    "\n",
    "# Check if the test statistic is greater than the critical value\n",
    "if test_statistic > critical_values['5%']:\n",
    "    print(\"Reject the null hypothesis - Time series is stationary\")\n",
    "else:\n",
    "    print(\"Fail to reject the null hypothesis - Time series is not stationary\")"
   ]
  },
  {
   "cell_type": "markdown",
   "metadata": {},
   "source": [
    "# USING GARCH"
   ]
  },
  {
   "cell_type": "markdown",
   "metadata": {},
   "source": [
    "## MODEL SELECTION \n",
    "Information Criterion will be used for model selection\n",
    "\n",
    "I will use Akaike Information Criterion(AIC) or the Bayesian Information Criterion\n",
    "Forecast the market volatility"
   ]
  },
  {
   "cell_type": "code",
   "execution_count": 9,
   "metadata": {},
   "outputs": [],
   "source": [
    "#BIC WILL BE USED DUE TO THE FACT THAT IT PLACES MORE PENALTY TO LARGE DATASETS\n",
    "def fit_garch(p, q):\n",
    "    model = arch.arch_model(df.Return, mean='constant', vol='GARCH', p=p, q=q)\n",
    "    results = model.fit()\n",
    "    bic = results.bic\n",
    "    return bic\n"
   ]
  },
  {
   "cell_type": "code",
   "execution_count": 10,
   "metadata": {},
   "outputs": [
    {
     "name": "stdout",
     "output_type": "stream",
     "text": [
      "Iteration:      1,   Func. Count:      6,   Neg. LLF: 1727055599736.3894\n",
      "Iteration:      2,   Func. Count:     14,   Neg. LLF: 13883226299.415688\n",
      "Iteration:      3,   Func. Count:     22,   Neg. LLF: 6367.282475648998\n",
      "Iteration:      4,   Func. Count:     29,   Neg. LLF: 5087.169518122164\n",
      "Iteration:      5,   Func. Count:     37,   Neg. LLF: 4872.580940170663\n",
      "Iteration:      6,   Func. Count:     43,   Neg. LLF: 4865.27603234719\n",
      "Iteration:      7,   Func. Count:     48,   Neg. LLF: 4865.217134351835\n",
      "Iteration:      8,   Func. Count:     53,   Neg. LLF: 4865.209802033583\n",
      "Iteration:      9,   Func. Count:     58,   Neg. LLF: 4865.20706623417\n",
      "Iteration:     10,   Func. Count:     63,   Neg. LLF: 4865.205698250531\n",
      "Iteration:     11,   Func. Count:     68,   Neg. LLF: 4865.205553797395\n",
      "Iteration:     12,   Func. Count:     73,   Neg. LLF: 4865.2055473622\n",
      "Iteration:     13,   Func. Count:     77,   Neg. LLF: 4865.205547362804\n",
      "Optimization terminated successfully    (Exit mode 0)\n",
      "            Current function value: 4865.2055473622\n",
      "            Iterations: 13\n",
      "            Function evaluations: 77\n",
      "            Gradient evaluations: 13\n",
      "Iteration:      1,   Func. Count:      7,   Neg. LLF: 15766.346745733328\n",
      "Iteration:      2,   Func. Count:     17,   Neg. LLF: 4940639858.466422\n",
      "Iteration:      3,   Func. Count:     26,   Neg. LLF: 845193346.9793727\n",
      "Iteration:      4,   Func. Count:     33,   Neg. LLF: 4968.684041326853\n",
      "Iteration:      5,   Func. Count:     40,   Neg. LLF: 4895.707940320827\n",
      "Iteration:      6,   Func. Count:     47,   Neg. LLF: 5120.291177837626\n",
      "Iteration:      7,   Func. Count:     54,   Neg. LLF: 4866.990621944447\n",
      "Iteration:      8,   Func. Count:     61,   Neg. LLF: 4866.563011828692\n",
      "Iteration:      9,   Func. Count:     68,   Neg. LLF: 4865.089889436849\n",
      "Iteration:     10,   Func. Count:     74,   Neg. LLF: 4865.0746976573655\n",
      "Iteration:     11,   Func. Count:     80,   Neg. LLF: 4865.044588506402\n",
      "Iteration:     12,   Func. Count:     86,   Neg. LLF: 4865.043242282131\n",
      "Iteration:     13,   Func. Count:     92,   Neg. LLF: 4865.043107424091\n",
      "Iteration:     14,   Func. Count:     98,   Neg. LLF: 4865.043106404745\n",
      "Iteration:     15,   Func. Count:    103,   Neg. LLF: 4865.043106405524\n",
      "Optimization terminated successfully    (Exit mode 0)\n",
      "            Current function value: 4865.043106404745\n",
      "            Iterations: 15\n",
      "            Function evaluations: 103\n",
      "            Gradient evaluations: 15\n",
      "Iteration:      1,   Func. Count:      8,   Neg. LLF: 16124.68307231643\n",
      "Iteration:      2,   Func. Count:     19,   Neg. LLF: 5419.6804626051035\n",
      "Iteration:      3,   Func. Count:     27,   Neg. LLF: 1433968196.3117328\n",
      "Iteration:      4,   Func. Count:     36,   Neg. LLF: 4902.849574410702\n",
      "Iteration:      5,   Func. Count:     44,   Neg. LLF: 5256.1317319913105\n",
      "Iteration:      6,   Func. Count:     53,   Neg. LLF: 4869.046873995039\n",
      "Iteration:      7,   Func. Count:     61,   Neg. LLF: 4895.082939688233\n",
      "Iteration:      8,   Func. Count:     69,   Neg. LLF: 4865.576081514978\n",
      "Iteration:      9,   Func. Count:     77,   Neg. LLF: 4864.930331899212\n",
      "Iteration:     10,   Func. Count:     84,   Neg. LLF: 4864.777562380507\n",
      "Iteration:     11,   Func. Count:     91,   Neg. LLF: 4864.776380816581\n",
      "Iteration:     12,   Func. Count:     98,   Neg. LLF: 4864.776208041854\n",
      "Iteration:     13,   Func. Count:    105,   Neg. LLF: 4864.77619435268\n",
      "Iteration:     14,   Func. Count:    111,   Neg. LLF: 4864.776194352389\n",
      "Optimization terminated successfully    (Exit mode 0)\n",
      "            Current function value: 4864.77619435268\n",
      "            Iterations: 14\n",
      "            Function evaluations: 111\n",
      "            Gradient evaluations: 14\n",
      "Iteration:      1,   Func. Count:      9,   Neg. LLF: 724327.994727034\n",
      "Iteration:      2,   Func. Count:     20,   Neg. LLF: 5420.16642038211\n",
      "Iteration:      3,   Func. Count:     29,   Neg. LLF: 5223.791063905335\n",
      "Iteration:      4,   Func. Count:     38,   Neg. LLF: 4890.566293353744\n",
      "Iteration:      5,   Func. Count:     47,   Neg. LLF: 5603.9222579110765\n",
      "Iteration:      6,   Func. Count:     56,   Neg. LLF: 4953.931901270866\n",
      "Iteration:      7,   Func. Count:     66,   Neg. LLF: 4933.659440842051\n",
      "Iteration:      8,   Func. Count:     75,   Neg. LLF: 4873.9517938033\n",
      "Iteration:      9,   Func. Count:     84,   Neg. LLF: 4864.472624337136\n",
      "Iteration:     10,   Func. Count:     92,   Neg. LLF: 4864.845250471917\n",
      "Iteration:     11,   Func. Count:    101,   Neg. LLF: 4895.391897294646\n",
      "Iteration:     12,   Func. Count:    110,   Neg. LLF: 4864.328740476327\n",
      "Iteration:     13,   Func. Count:    118,   Neg. LLF: 4864.328500247896\n",
      "Iteration:     14,   Func. Count:    126,   Neg. LLF: 4864.328492510569\n",
      "Iteration:     15,   Func. Count:    133,   Neg. LLF: 4864.328492510076\n",
      "Optimization terminated successfully    (Exit mode 0)\n",
      "            Current function value: 4864.328492510569\n",
      "            Iterations: 15\n",
      "            Function evaluations: 133\n",
      "            Gradient evaluations: 15\n",
      "Iteration:      1,   Func. Count:      7,   Neg. LLF: 16158.448066068064\n",
      "Iteration:      2,   Func. Count:     17,   Neg. LLF: 5419.463662536335\n",
      "Iteration:      3,   Func. Count:     24,   Neg. LLF: 1370874919.3171246\n",
      "Iteration:      4,   Func. Count:     31,   Neg. LLF: 4897.144776861691\n",
      "Iteration:      5,   Func. Count:     38,   Neg. LLF: 5124.08513773626\n",
      "Iteration:      6,   Func. Count:     45,   Neg. LLF: 4895.488151326055\n",
      "Iteration:      7,   Func. Count:     52,   Neg. LLF: 4865.931127866459\n",
      "Iteration:      8,   Func. Count:     58,   Neg. LLF: 4866.6028638754915\n",
      "Iteration:      9,   Func. Count:     65,   Neg. LLF: 4918.941140123071\n",
      "Iteration:     10,   Func. Count:     72,   Neg. LLF: 4865.226464560243\n",
      "Iteration:     11,   Func. Count:     78,   Neg. LLF: 4865.206098173017\n",
      "Iteration:     12,   Func. Count:     84,   Neg. LLF: 4865.205556435709\n",
      "Iteration:     13,   Func. Count:     90,   Neg. LLF: 4865.205547512889\n",
      "Iteration:     14,   Func. Count:     95,   Neg. LLF: 4865.205547512747\n",
      "Optimization terminated successfully    (Exit mode 0)\n",
      "            Current function value: 4865.205547512889\n",
      "            Iterations: 14\n",
      "            Function evaluations: 95\n",
      "            Gradient evaluations: 14\n",
      "Iteration:      1,   Func. Count:      8,   Neg. LLF: 16848.509157930595\n",
      "Iteration:      2,   Func. Count:     19,   Neg. LLF: 887057.0880201661\n",
      "Iteration:      3,   Func. Count:     28,   Neg. LLF: 5017.742923976042\n",
      "Iteration:      4,   Func. Count:     36,   Neg. LLF: 4925.811224037382\n",
      "Iteration:      5,   Func. Count:     45,   Neg. LLF: 4894.99759980916\n",
      "Iteration:      6,   Func. Count:     53,   Neg. LLF: 4916.107580648655\n",
      "Iteration:      7,   Func. Count:     61,   Neg. LLF: 4901.709614130209\n",
      "Iteration:      8,   Func. Count:     69,   Neg. LLF: 4866.234214669271\n",
      "Iteration:      9,   Func. Count:     77,   Neg. LLF: 4865.498135939561\n",
      "Iteration:     10,   Func. Count:     85,   Neg. LLF: 4865.7814768972985\n",
      "Iteration:     11,   Func. Count:     93,   Neg. LLF: 4865.02735702511\n",
      "Iteration:     12,   Func. Count:    101,   Neg. LLF: 4864.990714107571\n",
      "Iteration:     13,   Func. Count:    108,   Neg. LLF: 4864.9905545183465\n",
      "Iteration:     14,   Func. Count:    115,   Neg. LLF: 4864.990530810581\n",
      "Iteration:     15,   Func. Count:    121,   Neg. LLF: 4864.9905308113375\n",
      "Optimization terminated successfully    (Exit mode 0)\n",
      "            Current function value: 4864.990530810581\n",
      "            Iterations: 15\n",
      "            Function evaluations: 121\n",
      "            Gradient evaluations: 15\n",
      "Iteration:      1,   Func. Count:      9,   Neg. LLF: 14762.838755004443\n",
      "Iteration:      2,   Func. Count:     21,   Neg. LLF: 563799.7825569967\n",
      "Iteration:      3,   Func. Count:     31,   Neg. LLF: 5046.7720701863755\n",
      "Iteration:      4,   Func. Count:     40,   Neg. LLF: 5006.684696713868\n",
      "Iteration:      5,   Func. Count:     51,   Neg. LLF: 4879.761042191857\n",
      "Iteration:      6,   Func. Count:     60,   Neg. LLF: 4869.991793113232\n",
      "Iteration:      7,   Func. Count:     69,   Neg. LLF: 4910.362039247255\n",
      "Iteration:      8,   Func. Count:     79,   Neg. LLF: 4864.124952229522\n",
      "Iteration:      9,   Func. Count:     87,   Neg. LLF: 4864.094647772575\n",
      "Iteration:     10,   Func. Count:     95,   Neg. LLF: 4864.079413576493\n",
      "Iteration:     11,   Func. Count:    103,   Neg. LLF: 4864.041201465967\n",
      "Iteration:     12,   Func. Count:    111,   Neg. LLF: 4864.036761395175\n",
      "Iteration:     13,   Func. Count:    119,   Neg. LLF: 4864.036338429064\n",
      "Iteration:     14,   Func. Count:    127,   Neg. LLF: 4864.036327240067\n",
      "Iteration:     15,   Func. Count:    135,   Neg. LLF: 4864.036326708116\n",
      "Optimization terminated successfully    (Exit mode 0)\n",
      "            Current function value: 4864.036326708116\n",
      "            Iterations: 15\n",
      "            Function evaluations: 135\n",
      "            Gradient evaluations: 15\n"
     ]
    },
    {
     "name": "stdout",
     "output_type": "stream",
     "text": [
      "Iteration:      1,   Func. Count:     10,   Neg. LLF: 2974450828800.214\n",
      "Iteration:      2,   Func. Count:     22,   Neg. LLF: 1461557947.5861173\n",
      "Iteration:      3,   Func. Count:     33,   Neg. LLF: 5929.62268053395\n",
      "Iteration:      4,   Func. Count:     44,   Neg. LLF: 5088.627721965723\n",
      "Iteration:      5,   Func. Count:     54,   Neg. LLF: 4916.350288146751\n",
      "Iteration:      6,   Func. Count:     64,   Neg. LLF: 4960.0626845746965\n",
      "Iteration:      7,   Func. Count:     75,   Neg. LLF: 4881.192592952832\n",
      "Iteration:      8,   Func. Count:     85,   Neg. LLF: 4863.858415368282\n",
      "Iteration:      9,   Func. Count:     95,   Neg. LLF: 4863.449345516471\n",
      "Iteration:     10,   Func. Count:    105,   Neg. LLF: 4863.2748677820655\n",
      "Iteration:     11,   Func. Count:    115,   Neg. LLF: 4863.331876581673\n",
      "Iteration:     12,   Func. Count:    125,   Neg. LLF: 4863.179908783578\n",
      "Iteration:     13,   Func. Count:    134,   Neg. LLF: 4863.179049083101\n",
      "Iteration:     14,   Func. Count:    143,   Neg. LLF: 4863.178964538247\n",
      "Iteration:     15,   Func. Count:    152,   Neg. LLF: 4863.17895585939\n",
      "Iteration:     16,   Func. Count:    160,   Neg. LLF: 4863.178955859868\n",
      "Optimization terminated successfully    (Exit mode 0)\n",
      "            Current function value: 4863.17895585939\n",
      "            Iterations: 16\n",
      "            Function evaluations: 160\n",
      "            Gradient evaluations: 16\n",
      "Iteration:      1,   Func. Count:      8,   Neg. LLF: 16020.341939286882\n",
      "Iteration:      2,   Func. Count:     19,   Neg. LLF: 1563773.8963466333\n",
      "Iteration:      3,   Func. Count:     28,   Neg. LLF: 4961.17290973476\n",
      "Iteration:      4,   Func. Count:     36,   Neg. LLF: 4933.4581642070225\n",
      "Iteration:      5,   Func. Count:     45,   Neg. LLF: 5037.914898275392\n",
      "Iteration:      6,   Func. Count:     53,   Neg. LLF: 4870.5686062483965\n",
      "Iteration:      7,   Func. Count:     61,   Neg. LLF: 4866.085679814065\n",
      "Iteration:      8,   Func. Count:     68,   Neg. LLF: 4867.162989079956\n",
      "Iteration:      9,   Func. Count:     76,   Neg. LLF: 4865.392309099357\n",
      "Iteration:     10,   Func. Count:     84,   Neg. LLF: 4865.206191787989\n",
      "Iteration:     11,   Func. Count:     91,   Neg. LLF: 4865.205686063401\n",
      "Iteration:     12,   Func. Count:     98,   Neg. LLF: 4865.205547321277\n",
      "Iteration:     13,   Func. Count:    104,   Neg. LLF: 4865.205547321421\n",
      "Optimization terminated successfully    (Exit mode 0)\n",
      "            Current function value: 4865.205547321277\n",
      "            Iterations: 13\n",
      "            Function evaluations: 104\n",
      "            Gradient evaluations: 13\n",
      "Iteration:      1,   Func. Count:      9,   Neg. LLF: 14484.816915351053\n",
      "Iteration:      2,   Func. Count:     20,   Neg. LLF: 3201285.6662642746\n",
      "Iteration:      3,   Func. Count:     30,   Neg. LLF: 5118.124477266625\n",
      "Iteration:      4,   Func. Count:     40,   Neg. LLF: 5595.405182389013\n",
      "Iteration:      5,   Func. Count:     49,   Neg. LLF: 4942.5790165927665\n",
      "Iteration:      6,   Func. Count:     58,   Neg. LLF: 4919.958763375004\n",
      "Iteration:      7,   Func. Count:     67,   Neg. LLF: 5006.666248993005\n",
      "Iteration:      8,   Func. Count:     77,   Neg. LLF: 4865.498188638178\n",
      "Iteration:      9,   Func. Count:     85,   Neg. LLF: 4866.505794799477\n",
      "Iteration:     10,   Func. Count:     94,   Neg. LLF: 4922.84508332622\n",
      "Iteration:     11,   Func. Count:    103,   Neg. LLF: 4864.9971000866035\n",
      "Iteration:     12,   Func. Count:    111,   Neg. LLF: 4864.992326200161\n",
      "Iteration:     13,   Func. Count:    119,   Neg. LLF: 4864.991739857821\n",
      "Iteration:     14,   Func. Count:    127,   Neg. LLF: 4864.990742407873\n",
      "Iteration:     15,   Func. Count:    135,   Neg. LLF: 4864.9905460327245\n",
      "Iteration:     16,   Func. Count:    143,   Neg. LLF: 4864.990530787465\n",
      "Iteration:     17,   Func. Count:    150,   Neg. LLF: 4864.990530786581\n",
      "Optimization terminated successfully    (Exit mode 0)\n",
      "            Current function value: 4864.990530787465\n",
      "            Iterations: 17\n",
      "            Function evaluations: 150\n",
      "            Gradient evaluations: 17\n",
      "Iteration:      1,   Func. Count:     10,   Neg. LLF: 14424.529608795365\n",
      "Iteration:      2,   Func. Count:     22,   Neg. LLF: 1508061.2596249934\n",
      "Iteration:      3,   Func. Count:     33,   Neg. LLF: 5102.168272914305\n",
      "Iteration:      4,   Func. Count:     44,   Neg. LLF: 5164.917025268361\n",
      "Iteration:      5,   Func. Count:     55,   Neg. LLF: 5164.249558189694\n",
      "Iteration:      6,   Func. Count:     66,   Neg. LLF: 4991.654985360633\n",
      "Iteration:      7,   Func. Count:     77,   Neg. LLF: 4881.64529698927\n",
      "Iteration:      8,   Func. Count:     87,   Neg. LLF: 4878.065870278093\n",
      "Iteration:      9,   Func. Count:     97,   Neg. LLF: 4868.668275167799\n",
      "Iteration:     10,   Func. Count:    107,   Neg. LLF: 4865.883621550693\n",
      "Iteration:     11,   Func. Count:    117,   Neg. LLF: 4864.662387569334\n",
      "Iteration:     12,   Func. Count:    127,   Neg. LLF: 4864.043384913868\n",
      "Iteration:     13,   Func. Count:    136,   Neg. LLF: 4864.041406399375\n",
      "Iteration:     14,   Func. Count:    146,   Neg. LLF: 4864.0137097012885\n",
      "Iteration:     15,   Func. Count:    155,   Neg. LLF: 4864.012998074495\n",
      "Iteration:     16,   Func. Count:    164,   Neg. LLF: 4864.01276071396\n",
      "Iteration:     17,   Func. Count:    173,   Neg. LLF: 4864.012724542155\n",
      "Iteration:     18,   Func. Count:    182,   Neg. LLF: 4864.012721687097\n",
      "Iteration:     19,   Func. Count:    190,   Neg. LLF: 4864.012721686794\n",
      "Optimization terminated successfully    (Exit mode 0)\n",
      "            Current function value: 4864.012721687097\n",
      "            Iterations: 19\n",
      "            Function evaluations: 190\n",
      "            Gradient evaluations: 19\n",
      "Iteration:      1,   Func. Count:     11,   Neg. LLF: 14286.3406854404\n",
      "Iteration:      2,   Func. Count:     24,   Neg. LLF: 3525078.496084238\n",
      "Iteration:      3,   Func. Count:     36,   Neg. LLF: 5104.169872009298\n",
      "Iteration:      4,   Func. Count:     48,   Neg. LLF: 5104.166227646307\n",
      "Iteration:      5,   Func. Count:     60,   Neg. LLF: 8654.457664144858\n",
      "Iteration:      6,   Func. Count:     72,   Neg. LLF: 5208.922751431661\n",
      "Iteration:      7,   Func. Count:     84,   Neg. LLF: 4886.302660070951\n",
      "Iteration:      8,   Func. Count:     95,   Neg. LLF: 4882.959721224339\n",
      "Iteration:      9,   Func. Count:    106,   Neg. LLF: 4870.179300660455\n",
      "Iteration:     10,   Func. Count:    117,   Neg. LLF: 4863.529548198001\n",
      "Iteration:     11,   Func. Count:    128,   Neg. LLF: 4864.272628994927\n",
      "Iteration:     12,   Func. Count:    139,   Neg. LLF: 4862.024522432178\n",
      "Iteration:     13,   Func. Count:    149,   Neg. LLF: 4862.024393510214\n",
      "Iteration:     14,   Func. Count:    160,   Neg. LLF: 4862.006547508459\n",
      "Iteration:     15,   Func. Count:    170,   Neg. LLF: 4862.0060119192085\n",
      "Iteration:     16,   Func. Count:    180,   Neg. LLF: 4862.005995742283\n",
      "Iteration:     17,   Func. Count:    190,   Neg. LLF: 4862.005994389744\n",
      "Iteration:     18,   Func. Count:    199,   Neg. LLF: 4862.005994390239\n",
      "Optimization terminated successfully    (Exit mode 0)\n",
      "            Current function value: 4862.005994389744\n",
      "            Iterations: 18\n",
      "            Function evaluations: 199\n",
      "            Gradient evaluations: 18\n",
      "Iteration:      1,   Func. Count:      9,   Neg. LLF: 14384.007687719683\n",
      "Iteration:      2,   Func. Count:     21,   Neg. LLF: 1282592.1601857492\n",
      "Iteration:      3,   Func. Count:     31,   Neg. LLF: 5622.662452974108\n",
      "Iteration:      4,   Func. Count:     41,   Neg. LLF: 4919.171259685614\n",
      "Iteration:      5,   Func. Count:     50,   Neg. LLF: 4971.893014589665\n",
      "Iteration:      6,   Func. Count:     59,   Neg. LLF: 4865.574620231053\n",
      "Iteration:      7,   Func. Count:     67,   Neg. LLF: 4916.896426197509\n",
      "Iteration:      8,   Func. Count:     76,   Neg. LLF: 5198.584820360811\n",
      "Iteration:      9,   Func. Count:     86,   Neg. LLF: 4864.991532025519\n",
      "Iteration:     10,   Func. Count:     95,   Neg. LLF: 4864.894068912349\n",
      "Iteration:     11,   Func. Count:    104,   Neg. LLF: 4864.7407409532725\n",
      "Iteration:     12,   Func. Count:    112,   Neg. LLF: 4864.740380262367\n",
      "Iteration:     13,   Func. Count:    120,   Neg. LLF: 4864.740378582285\n",
      "Iteration:     14,   Func. Count:    127,   Neg. LLF: 4864.740378582283\n",
      "Optimization terminated successfully    (Exit mode 0)\n",
      "            Current function value: 4864.740378582285\n",
      "            Iterations: 14\n",
      "            Function evaluations: 127\n",
      "            Gradient evaluations: 14\n",
      "Iteration:      1,   Func. Count:     10,   Neg. LLF: 14518.09631739195\n",
      "Iteration:      2,   Func. Count:     22,   Neg. LLF: 1236885.1402419202\n"
     ]
    },
    {
     "name": "stdout",
     "output_type": "stream",
     "text": [
      "Iteration:      3,   Func. Count:     33,   Neg. LLF: 5092.112261588938\n",
      "Iteration:      4,   Func. Count:     45,   Neg. LLF: 4985.009457267238\n",
      "Iteration:      5,   Func. Count:     55,   Neg. LLF: 5251.550600114754\n",
      "Iteration:      6,   Func. Count:     66,   Neg. LLF: 4897.75225356862\n",
      "Iteration:      7,   Func. Count:     76,   Neg. LLF: 4868.115486117622\n",
      "Iteration:      8,   Func. Count:     86,   Neg. LLF: 4866.12505195178\n",
      "Iteration:      9,   Func. Count:     96,   Neg. LLF: 4892.890248063761\n",
      "Iteration:     10,   Func. Count:    107,   Neg. LLF: 4865.338699596648\n",
      "Iteration:     11,   Func. Count:    116,   Neg. LLF: 4865.7788342592\n",
      "Iteration:     12,   Func. Count:    126,   Neg. LLF: 4903.494216791112\n",
      "Iteration:     13,   Func. Count:    137,   Neg. LLF: 4865.0895112590915\n",
      "Iteration:     14,   Func. Count:    146,   Neg. LLF: 4864.991871874052\n",
      "Iteration:     15,   Func. Count:    155,   Neg. LLF: 4864.990598625522\n",
      "Iteration:     16,   Func. Count:    164,   Neg. LLF: 4864.990539502485\n",
      "Iteration:     17,   Func. Count:    173,   Neg. LLF: 4864.990534242017\n",
      "Iteration:     18,   Func. Count:    182,   Neg. LLF: 4864.990532444228\n",
      "Iteration:     19,   Func. Count:    191,   Neg. LLF: 4864.990530564312\n",
      "Iteration:     20,   Func. Count:    199,   Neg. LLF: 4864.990530564706\n",
      "Optimization terminated successfully    (Exit mode 0)\n",
      "            Current function value: 4864.990530564312\n",
      "            Iterations: 20\n",
      "            Function evaluations: 199\n",
      "            Gradient evaluations: 20\n",
      "Iteration:      1,   Func. Count:     11,   Neg. LLF: 14407.412954475854\n",
      "Iteration:      2,   Func. Count:     24,   Neg. LLF: 1470600.3887041276\n",
      "Iteration:      3,   Func. Count:     36,   Neg. LLF: 5090.623688335709\n",
      "Iteration:      4,   Func. Count:     48,   Neg. LLF: 5146.38227587819\n",
      "Iteration:      5,   Func. Count:     60,   Neg. LLF: 620877405.7513624\n",
      "Iteration:      6,   Func. Count:     72,   Neg. LLF: 4989.558445070445\n",
      "Iteration:      7,   Func. Count:     83,   Neg. LLF: 4865.646232813338\n",
      "Iteration:      8,   Func. Count:     93,   Neg. LLF: 4878.892249282455\n",
      "Iteration:      9,   Func. Count:    104,   Neg. LLF: 4878.685632754746\n",
      "Iteration:     10,   Func. Count:    115,   Neg. LLF: 4878.052367745536\n",
      "Iteration:     11,   Func. Count:    126,   Neg. LLF: 4879.761494942772\n",
      "Iteration:     12,   Func. Count:    137,   Neg. LLF: 4896.829736425823\n",
      "Iteration:     13,   Func. Count:    148,   Neg. LLF: 4867.196029796953\n",
      "Iteration:     14,   Func. Count:    159,   Neg. LLF: 4864.856364983712\n",
      "Iteration:     15,   Func. Count:    170,   Neg. LLF: 4864.467396257324\n",
      "Iteration:     16,   Func. Count:    181,   Neg. LLF: 4864.0703988888035\n",
      "Iteration:     17,   Func. Count:    191,   Neg. LLF: 4864.047210274748\n",
      "Iteration:     18,   Func. Count:    201,   Neg. LLF: 4864.024031988087\n",
      "Iteration:     19,   Func. Count:    211,   Neg. LLF: 4864.014223222534\n",
      "Iteration:     20,   Func. Count:    221,   Neg. LLF: 4864.012774101728\n",
      "Iteration:     21,   Func. Count:    231,   Neg. LLF: 4864.012723500891\n",
      "Iteration:     22,   Func. Count:    241,   Neg. LLF: 4864.012721503641\n",
      "Iteration:     23,   Func. Count:    250,   Neg. LLF: 4864.012721503761\n",
      "Optimization terminated successfully    (Exit mode 0)\n",
      "            Current function value: 4864.012721503641\n",
      "            Iterations: 23\n",
      "            Function evaluations: 250\n",
      "            Gradient evaluations: 23\n",
      "Iteration:      1,   Func. Count:     12,   Neg. LLF: 14257.850085881237\n",
      "Iteration:      2,   Func. Count:     26,   Neg. LLF: 3604065.578290827\n",
      "Iteration:      3,   Func. Count:     38,   Neg. LLF: 5102.849737190641\n",
      "Iteration:      4,   Func. Count:     51,   Neg. LLF: 5296.605510792922\n",
      "Iteration:      5,   Func. Count:     64,   Neg. LLF: 5488.642674486846\n",
      "Iteration:      6,   Func. Count:     77,   Neg. LLF: 5084.924642841749\n",
      "Iteration:      7,   Func. Count:     89,   Neg. LLF: 4961.975859096032\n",
      "Iteration:      8,   Func. Count:    101,   Neg. LLF: 4888.239994328782\n",
      "Iteration:      9,   Func. Count:    113,   Neg. LLF: 4977.484546789894\n",
      "Iteration:     10,   Func. Count:    126,   Neg. LLF: 4869.775082743781\n",
      "Iteration:     11,   Func. Count:    138,   Neg. LLF: 4873.9512800091\n",
      "Iteration:     12,   Func. Count:    150,   Neg. LLF: 4862.193884703747\n",
      "Iteration:     13,   Func. Count:    161,   Neg. LLF: 4862.059654559162\n",
      "Iteration:     14,   Func. Count:    172,   Neg. LLF: 4862.009421977237\n",
      "Iteration:     15,   Func. Count:    183,   Neg. LLF: 4862.018690969019\n",
      "Iteration:     16,   Func. Count:    195,   Neg. LLF: 4862.006050510879\n",
      "Iteration:     17,   Func. Count:    206,   Neg. LLF: 4862.00599810166\n",
      "Iteration:     18,   Func. Count:    217,   Neg. LLF: 4862.00599434787\n",
      "Iteration:     19,   Func. Count:    227,   Neg. LLF: 4862.005994347757\n",
      "Optimization terminated successfully    (Exit mode 0)\n",
      "            Current function value: 4862.00599434787\n",
      "            Iterations: 19\n",
      "            Function evaluations: 227\n",
      "            Gradient evaluations: 19\n"
     ]
    }
   ],
   "source": [
    "best_bic = np.inf\n",
    "best_p = 0\n",
    "best_q = 0\n",
    "for p in range(1, 5):\n",
    "    for q in range(1, 5):\n",
    "        bic = fit_garch(p, q)\n",
    "        if bic < best_bic:\n",
    "            best_bic = bic\n",
    "            best_p = p\n",
    "            best_q = q"
   ]
  },
  {
   "cell_type": "code",
   "execution_count": 11,
   "metadata": {},
   "outputs": [
    {
     "name": "stdout",
     "output_type": "stream",
     "text": [
      "Iteration:      1,   Func. Count:      6,   Neg. LLF: 1727055599736.3894\n",
      "Iteration:      2,   Func. Count:     14,   Neg. LLF: 13883226299.415688\n",
      "Iteration:      3,   Func. Count:     22,   Neg. LLF: 6367.282475648998\n",
      "Iteration:      4,   Func. Count:     29,   Neg. LLF: 5087.169518122164\n",
      "Iteration:      5,   Func. Count:     37,   Neg. LLF: 4872.580940170663\n",
      "Iteration:      6,   Func. Count:     43,   Neg. LLF: 4865.27603234719\n",
      "Iteration:      7,   Func. Count:     48,   Neg. LLF: 4865.217134351835\n",
      "Iteration:      8,   Func. Count:     53,   Neg. LLF: 4865.209802033583\n",
      "Iteration:      9,   Func. Count:     58,   Neg. LLF: 4865.20706623417\n",
      "Iteration:     10,   Func. Count:     63,   Neg. LLF: 4865.205698250531\n",
      "Iteration:     11,   Func. Count:     68,   Neg. LLF: 4865.205553797395\n",
      "Iteration:     12,   Func. Count:     73,   Neg. LLF: 4865.2055473622\n",
      "Iteration:     13,   Func. Count:     77,   Neg. LLF: 4865.205547362804\n",
      "Optimization terminated successfully    (Exit mode 0)\n",
      "            Current function value: 4865.2055473622\n",
      "            Iterations: 13\n",
      "            Function evaluations: 77\n",
      "            Gradient evaluations: 13\n",
      "mu          0.162206\n",
      "omega       0.169182\n",
      "alpha[1]    0.114526\n",
      "beta[1]     0.835696\n",
      "Name: params, dtype: float64\n",
      "p, 1\n",
      "q, 1\n"
     ]
    }
   ],
   "source": [
    "best_model = arch.arch_model(df.Return, mean='constant', vol='GARCH', p=best_p, q=best_q)\n",
    "best_results = best_model.fit()\n",
    "print(best_results.params)\n",
    "print('p,',best_p)\n",
    "print('q,',best_q)"
   ]
  },
  {
   "cell_type": "code",
   "execution_count": 34,
   "metadata": {},
   "outputs": [
    {
     "name": "stdout",
     "output_type": "stream",
     "text": [
      "                               h.01      h.02      h.03      h.04      h.05  \\\n",
      "Date                                                                          \n",
      "2022-12-30 00:00:00-05:00  4.081277  4.047304  4.015021  3.984345  3.955196   \n",
      "\n",
      "                               h.06     h.07      h.08      h.09      h.10  \n",
      "Date                                                                        \n",
      "2022-12-30 00:00:00-05:00  3.927499  3.90118  3.876171  3.852406  3.829825  \n"
     ]
    }
   ],
   "source": [
    "# forecast the future\n",
    "apple_forecast = best_results.forecast(horizon = 10)\n",
    "print(apple_forecast.variance[-1:])"
   ]
  },
  {
   "cell_type": "code",
   "execution_count": 26,
   "metadata": {},
   "outputs": [
    {
     "data": {
      "text/plain": [
       "Text(0.5, 1.0, 'Rolling Prediction')"
      ]
     },
     "execution_count": 26,
     "metadata": {},
     "output_type": "execute_result"
    },
    {
     "data": {
      "image/png": "[encoded data removed]",
      "text/plain": [
       "<Figure size 720x288 with 1 Axes>"
      ]
     },
     "metadata": {
      "needs_background": "light"
     },
     "output_type": "display_data"
    }
   ],
   "source": [
    "rolling_predictions = []\n",
    "test_size = 365\n",
    "\n",
    "for i in range(test_size):\n",
    "    train = df['Return'][:-(test_size-i)]\n",
    "    model = arch.arch_model(train, p=best_p, q=best_q)\n",
    "    model_fit = model.fit(disp='off')\n",
    "    pred = model_fit.forecast(horizon=1)\n",
    "    rolling_predictions.append(np.sqrt(pred.variance.values[-1,:][0]))\n",
    "    \n",
    "rolling_predictions = pd.Series(rolling_predictions, index=df['Return'].index[-365:])\n",
    "\n",
    "fig,ax = plt.subplots(figsize=(10,4))\n",
    "ax.spines[['top','right']].set_visible(False)\n",
    "plt.plot(rolling_predictions)\n",
    "plt.title('Rolling Prediction')"
   ]
  },
  {
   "cell_type": "code",
   "execution_count": 27,
   "metadata": {},
   "outputs": [
    {
     "data": {
      "text/plain": [
       "<matplotlib.legend.Legend at 0x15677f7b0a0>"
      ]
     },
     "execution_count": 27,
     "metadata": {},
     "output_type": "execute_result"
    },
    {
     "data": {
      "image/png": "[encoded data removed]",
      "text/plain": [
       "<Figure size 936x288 with 1 Axes>"
      ]
     },
     "metadata": {
      "needs_background": "light"
     },
     "output_type": "display_data"
    }
   ],
   "source": [
    "#accuracy\n",
    "fig,ax = plt.subplots(figsize=(13,4))\n",
    "ax.grid(which=\"major\", axis='y', color='#758D99', alpha=0.3, zorder=1)\n",
    "ax.spines[['top','right']].set_visible(False)\n",
    "plt.plot(df['Return'][-365:])\n",
    "plt.plot(rolling_predictions)\n",
    "plt.title('APPLE Volatility Prediction - Rolling Forecast')\n",
    "plt.legend(['True Daily Returns', 'Predicted Volatility'])"
   ]
  },
  {
   "cell_type": "code",
   "execution_count": 35,
   "metadata": {},
   "outputs": [
    {
     "name": "stdout",
     "output_type": "stream",
     "text": [
      "2.8237464755470647\n"
     ]
    }
   ],
   "source": [
    "from sklearn.metrics import mean_squared_error\n",
    "# Calculate the mean squared error between the forecasted standard deviations and the actual realized volatility\n",
    "mse = mean_squared_error(df['Return'][-365:], rolling_predictions)\n",
    "rmse =  np.sqrt(mse)\n",
    "# Print the mean squared error\n",
    "print(rmse)"
   ]
  },
  {
   "cell_type": "code",
   "execution_count": null,
   "metadata": {},
   "outputs": [],
   "source": []
  },
  {
   "cell_type": "markdown",
   "metadata": {},
   "source": [
    "# ARIMA"
   ]
  },
  {
   "cell_type": "code",
   "execution_count": 10,
   "metadata": {},
   "outputs": [],
   "source": [
    "#get the monthly mean\n",
    "monthly_mean = price.Close.resample('M').mean()"
   ]
  },
  {
   "cell_type": "code",
   "execution_count": 11,
   "metadata": {},
   "outputs": [
    {
     "data": {
      "image/png": "[encoded data removed]",
      "text/plain": [
       "<Figure size 1296x576 with 4 Axes>"
      ]
     },
     "metadata": {
      "needs_background": "light"
     },
     "output_type": "display_data"
    }
   ],
   "source": [
    "from pylab import rcParams\n",
    "rcParams['figure.figsize'] = 18, 8\n",
    "\n",
    "decomposition = sm.tsa.seasonal_decompose(monthly_mean, model='additive')\n",
    "fig = decomposition.plot()\n",
    "plt.show()"
   ]
  },
  {
   "cell_type": "markdown",
   "metadata": {},
   "source": [
    "From the above data we can see that the data is seasonal"
   ]
  },
  {
   "cell_type": "code",
   "execution_count": null,
   "metadata": {},
   "outputs": [],
   "source": [
    "import itertools\n",
    "p = d = q = range(0, 3)\n",
    "pdq = list(itertools.product(p, d, q))\n",
    "seasonal_pdq = [(x[0], x[1], x[2], 12) for x in list(itertools.product(p, d, q))]"
   ]
  },
  {
   "cell_type": "code",
   "execution_count": null,
   "metadata": {},
   "outputs": [],
   "source": [
    "l_param = []\n",
    "l_param_seasonal=[]\n",
    "l_results_aic=[]\n",
    "for param in pdq:\n",
    "    for param_seasonal in seasonal_pdq:\n",
    "        try:\n",
    "            mod = sm.tsa.statespace.SARIMAX(monthly_mean,\n",
    "                                            order=param,\n",
    "                                            seasonal_order=param_seasonal,\n",
    "                                            enforce_stationarity=False,\n",
    "                                            enforce_invertibility=False)\n",
    "\n",
    "            results = mod.fit()\n",
    "\n",
    "            print('ARIMA{}x{}12 - AIC:{}'.format(param, param_seasonal, results.aic))\n",
    "            \n",
    "            l_param.append(param)\n",
    "            l_param_seasonal.append(param_seasonal)\n",
    "            l_results_aic.append(results.aic)\n",
    "        except:\n",
    "            continue"
   ]
  },
  {
   "cell_type": "code",
   "execution_count": null,
   "metadata": {},
   "outputs": [],
   "source": [
    "minimum=l_results_aic[0]\n",
    "for i in l_results_aic[1:]:\n",
    "    if i < minimum: \n",
    "        minimum = i\n",
    "i=l_results_aic.index(minimum)"
   ]
  },
  {
   "cell_type": "code",
   "execution_count": null,
   "metadata": {},
   "outputs": [],
   "source": [
    "mod = sm.tsa.statespace.SARIMAX(monthly_mean,\n",
    "                                order=l_param[i],\n",
    "                                seasonal_order=l_param_seasonal[i],\n",
    "                                enforce_stationarity=False,\n",
    "                                enforce_invertibility=False)\n",
    "\n",
    "results = mod.fit()\n",
    "\n",
    "print(results.summary().tables[1])"
   ]
  },
  {
   "cell_type": "code",
   "execution_count": null,
   "metadata": {},
   "outputs": [],
   "source": [
    "# Chceking the forects \n",
    "pred = results.get_prediction(start=pd.to_datetime('2022-01-01'), dynamic=False)\n",
    "pred_ci = pred.conf_int()\n",
    "\n",
    "ax = monthly_mean['2014':].plot(label='observed')\n",
    "pred.predicted_mean.plot(ax=ax, label='One-step ahead Forecast', alpha=.7, figsize=(14, 7))\n",
    "\n",
    "ax.fill_between(pred_ci.index,\n",
    "                pred_ci.iloc[:, 0],\n",
    "                pred_ci.iloc[:, 1], color='k', alpha=.2)\n",
    "\n",
    "ax.set_xlabel('Date')\n",
    "ax.set_ylabel('close price')\n",
    "plt.legend()\n",
    "\n",
    "plt.show()"
   ]
  },
  {
   "cell_type": "code",
   "execution_count": null,
   "metadata": {},
   "outputs": [],
   "source": [
    "y_forecasted = pred.predicted_mean\n",
    "y_truth = monthly_mean['2017-12-31':]\n",
    "\n",
    "# Compute the mean square error\n",
    "mse = ((y_forecasted - y_truth) ** 2).mean()\n",
    "print('The Mean Squared Error of our forecasts is {}'.format(round(mse, 2)))"
   ]
  },
  {
   "cell_type": "code",
   "execution_count": null,
   "metadata": {},
   "outputs": [],
   "source": [
    "print('The Root Mean Squared Error of our forecasts is {}'.format(round(np.sqrt(mse), 2)))"
   ]
  },
  {
   "cell_type": "code",
   "execution_count": null,
   "metadata": {},
   "outputs": [],
   "source": [
    "pred_uc = results.get_forecast(steps=100)\n",
    "pred_ci = pred_uc.conf_int()\n",
    "\n",
    "ax = monthly_mean.plot(label='observed', figsize=(14, 7))\n",
    "pred_uc.predicted_mean.plot(ax=ax, label='Forecast')\n",
    "ax.fill_between(pred_ci.index,\n",
    "                pred_ci.iloc[:, 0],\n",
    "                pred_ci.iloc[:, 1], color='k', alpha=.25)\n",
    "ax.set_xlabel('Date')\n",
    "ax.set_ylabel('close price')\n",
    "\n",
    "plt.legend()\n",
    "plt.show()"
   ]
  },
  {
   "cell_type": "code",
   "execution_count": null,
   "metadata": {},
   "outputs": [],
   "source": []
  },
  {
   "cell_type": "code",
   "execution_count": null,
   "metadata": {},
   "outputs": [],
   "source": []
  },
  {
   "cell_type": "markdown",
   "metadata": {},
   "source": [
    "##Done"
   ]
  },
  {
   "cell_type": "code",
   "execution_count": null,
   "metadata": {},
   "outputs": [],
   "source": []
  },
  {
   "cell_type": "code",
   "execution_count": null,
   "metadata": {},
   "outputs": [],
   "source": []
  },
  {
   "cell_type": "code",
   "execution_count": null,
   "metadata": {},
   "outputs": [],
   "source": []
  },
  {
   "cell_type": "code",
   "execution_count": null,
   "metadata": {},
   "outputs": [],
   "source": []
  },
  {
   "cell_type": "code",
   "execution_count": null,
   "metadata": {},
   "outputs": [],
   "source": []
  },
  {
   "cell_type": "code",
   "execution_count": null,
   "metadata": {},
   "outputs": [],
   "source": []
  },
  {
   "cell_type": "code",
   "execution_count": 87,
   "metadata": {},
   "outputs": [
    {
     "name": "stdout",
     "output_type": "stream",
     "text": [
      "Performing stepwise search to minimize aic\n",
      " ARIMA(2,1,2)(0,0,0)[0] intercept   : AIC=9352.997, Time=7.15 sec\n",
      " ARIMA(0,1,0)(0,0,0)[0] intercept   : AIC=9360.497, Time=0.29 sec\n",
      " ARIMA(1,1,0)(0,0,0)[0] intercept   : AIC=9354.867, Time=0.34 sec\n",
      " ARIMA(0,1,1)(0,0,0)[0] intercept   : AIC=9354.392, Time=0.51 sec\n",
      " ARIMA(0,1,0)(0,0,0)[0]             : AIC=9360.527, Time=0.13 sec\n",
      " ARIMA(1,1,2)(0,0,0)[0] intercept   : AIC=9355.557, Time=1.05 sec\n",
      " ARIMA(2,1,1)(0,0,0)[0] intercept   : AIC=9355.529, Time=1.13 sec\n",
      " ARIMA(3,1,2)(0,0,0)[0] intercept   : AIC=9354.698, Time=3.31 sec\n",
      " ARIMA(2,1,3)(0,0,0)[0] intercept   : AIC=9349.737, Time=2.34 sec\n",
      " ARIMA(1,1,3)(0,0,0)[0] intercept   : AIC=9356.444, Time=1.44 sec\n",
      " ARIMA(3,1,3)(0,0,0)[0] intercept   : AIC=9352.253, Time=4.94 sec\n",
      " ARIMA(2,1,4)(0,0,0)[0] intercept   : AIC=9352.936, Time=5.18 sec\n",
      " ARIMA(1,1,4)(0,0,0)[0] intercept   : AIC=9342.429, Time=1.16 sec\n",
      " ARIMA(0,1,4)(0,0,0)[0] intercept   : AIC=9356.386, Time=0.68 sec\n",
      " ARIMA(1,1,5)(0,0,0)[0] intercept   : AIC=9338.488, Time=2.49 sec\n",
      " ARIMA(0,1,5)(0,0,0)[0] intercept   : AIC=9351.812, Time=1.02 sec\n",
      " ARIMA(2,1,5)(0,0,0)[0] intercept   : AIC=9332.951, Time=6.60 sec\n",
      " ARIMA(3,1,5)(0,0,0)[0] intercept   : AIC=9322.043, Time=7.73 sec\n",
      " ARIMA(3,1,4)(0,0,0)[0] intercept   : AIC=inf, Time=6.91 sec\n",
      " ARIMA(4,1,5)(0,0,0)[0] intercept   : AIC=9321.359, Time=8.06 sec\n",
      " ARIMA(4,1,4)(0,0,0)[0] intercept   : AIC=inf, Time=6.84 sec\n",
      " ARIMA(5,1,5)(0,0,0)[0] intercept   : AIC=9319.718, Time=8.16 sec\n",
      " ARIMA(5,1,4)(0,0,0)[0] intercept   : AIC=9324.539, Time=7.28 sec\n",
      " ARIMA(5,1,5)(0,0,0)[0]             : AIC=9319.255, Time=4.80 sec\n",
      " ARIMA(4,1,5)(0,0,0)[0]             : AIC=9318.828, Time=6.28 sec\n",
      " ARIMA(3,1,5)(0,0,0)[0]             : AIC=9322.001, Time=4.28 sec\n",
      " ARIMA(4,1,4)(0,0,0)[0]             : AIC=inf, Time=4.53 sec\n",
      " ARIMA(3,1,4)(0,0,0)[0]             : AIC=inf, Time=23.24 sec\n",
      " ARIMA(5,1,4)(0,0,0)[0]             : AIC=9324.728, Time=4.46 sec\n",
      "\n",
      "Best model:  ARIMA(4,1,5)(0,0,0)[0]          \n",
      "Total fit time: 135.480 seconds\n"
     ]
    }
   ],
   "source": [
    "# Fit the ARIMA model\n",
    "model =auto_arima(price, seasonal=True, suppress_warnings=True, stepwise=True, error_action=\"ignore\", trace=True)\n"
   ]
  },
  {
   "cell_type": "code",
   "execution_count": 88,
   "metadata": {},
   "outputs": [
    {
     "name": "stdout",
     "output_type": "stream",
     "text": [
      "2468    129.422527\n",
      "2469    129.470133\n",
      "2470    129.065574\n",
      "2471    129.508372\n",
      "2472    129.396646\n",
      "2473    129.609083\n",
      "2474    129.481246\n",
      "2475    129.355579\n",
      "2476    129.478910\n",
      "2477    129.279139\n",
      "dtype: float64\n"
     ]
    }
   ],
   "source": [
    "# Predict the next 10 time steps\n",
    "predictions = model.predict(n_periods=10)\n",
    "print(predictions)"
   ]
  },
  {
   "cell_type": "code",
   "execution_count": 97,
   "metadata": {},
   "outputs": [],
   "source": [
    "import pmdarima as pm\n",
    "# Split the data into training and validation sets\n",
    "# Perform a train-test split\n",
    "ttrain = price[:int(len(price)*0.8)]\n",
    "ttest = price[int(len(price)*0.8):]\n",
    "\n",
    "\n"
   ]
  },
  {
   "cell_type": "code",
   "execution_count": 125,
   "metadata": {},
   "outputs": [
    {
     "name": "stdout",
     "output_type": "stream",
     "text": [
      "Performing stepwise search to minimize aic\n",
      " ARIMA(2,2,1)(0,0,0)[0]             : AIC=inf, Time=0.70 sec\n",
      " ARIMA(0,2,0)(0,0,0)[0]             : AIC=7530.510, Time=0.10 sec\n",
      " ARIMA(1,2,0)(0,0,0)[0]             : AIC=6723.951, Time=0.13 sec\n",
      " ARIMA(0,2,1)(0,0,0)[0]             : AIC=inf, Time=0.49 sec\n",
      " ARIMA(2,2,0)(0,0,0)[0]             : AIC=6469.654, Time=0.17 sec\n",
      " ARIMA(3,2,0)(0,0,0)[0]             : AIC=6351.436, Time=0.23 sec\n",
      " ARIMA(4,2,0)(0,0,0)[0]             : AIC=6222.490, Time=0.29 sec\n",
      " ARIMA(5,2,0)(0,0,0)[0]             : AIC=6198.672, Time=0.35 sec\n",
      " ARIMA(5,2,1)(0,0,0)[0]             : AIC=inf, Time=1.68 sec\n",
      " ARIMA(4,2,1)(0,0,0)[0]             : AIC=inf, Time=2.03 sec\n",
      " ARIMA(5,2,0)(0,0,0)[0] intercept   : AIC=6200.671, Time=0.60 sec\n",
      "\n",
      "Best model:  ARIMA(5,2,0)(0,0,0)[0]          \n",
      "Total fit time: 6.800 seconds\n"
     ]
    }
   ],
   "source": [
    "# Fit the ARIMA model\n",
    "model =auto_arima(ttrain, start_q=1, max_p=5, max_q=5, start_P=1,  start_Q=1, max_P=2,  max_Q=2, \n",
    "                  seasonal=True, suppress_warnings=True, stepwise=True, error_action=\"ignore\", trace=True)"
   ]
  },
  {
   "cell_type": "code",
   "execution_count": 101,
   "metadata": {},
   "outputs": [
    {
     "data": {
      "text/html": [
       "<table class=\"simpletable\">\n",
       "<caption>SARIMAX Results</caption>\n",
       "<tr>\n",
       "  <th>Dep. Variable:</th>           <td>y</td>        <th>  No. Observations:  </th>   <td>1974</td>   \n",
       "</tr>\n",
       "<tr>\n",
       "  <th>Model:</th>           <td>SARIMAX(5, 2, 0)</td> <th>  Log Likelihood     </th> <td>-3093.336</td>\n",
       "</tr>\n",
       "<tr>\n",
       "  <th>Date:</th>            <td>Thu, 09 Feb 2023</td> <th>  AIC                </th> <td>6198.672</td> \n",
       "</tr>\n",
       "<tr>\n",
       "  <th>Time:</th>                <td>13:15:36</td>     <th>  BIC                </th> <td>6232.193</td> \n",
       "</tr>\n",
       "<tr>\n",
       "  <th>Sample:</th>                  <td>0</td>        <th>  HQIC               </th> <td>6210.989</td> \n",
       "</tr>\n",
       "<tr>\n",
       "  <th></th>                      <td> - 1974</td>     <th>                     </th>     <td> </td>    \n",
       "</tr>\n",
       "<tr>\n",
       "  <th>Covariance Type:</th>        <td>opg</td>       <th>                     </th>     <td> </td>    \n",
       "</tr>\n",
       "</table>\n",
       "<table class=\"simpletable\">\n",
       "<tr>\n",
       "     <td></td>       <th>coef</th>     <th>std err</th>      <th>z</th>      <th>P>|z|</th>  <th>[0.025</th>    <th>0.975]</th>  \n",
       "</tr>\n",
       "<tr>\n",
       "  <th>ar.L1</th>  <td>   -0.9591</td> <td>    0.010</td> <td>  -96.075</td> <td> 0.000</td> <td>   -0.979</td> <td>   -0.939</td>\n",
       "</tr>\n",
       "<tr>\n",
       "  <th>ar.L2</th>  <td>   -0.7292</td> <td>    0.013</td> <td>  -55.964</td> <td> 0.000</td> <td>   -0.755</td> <td>   -0.704</td>\n",
       "</tr>\n",
       "<tr>\n",
       "  <th>ar.L3</th>  <td>   -0.5407</td> <td>    0.012</td> <td>  -44.900</td> <td> 0.000</td> <td>   -0.564</td> <td>   -0.517</td>\n",
       "</tr>\n",
       "<tr>\n",
       "  <th>ar.L4</th>  <td>   -0.3610</td> <td>    0.012</td> <td>  -30.115</td> <td> 0.000</td> <td>   -0.384</td> <td>   -0.338</td>\n",
       "</tr>\n",
       "<tr>\n",
       "  <th>ar.L5</th>  <td>   -0.1149</td> <td>    0.010</td> <td>  -11.898</td> <td> 0.000</td> <td>   -0.134</td> <td>   -0.096</td>\n",
       "</tr>\n",
       "<tr>\n",
       "  <th>sigma2</th> <td>    1.3482</td> <td>    0.013</td> <td>  101.645</td> <td> 0.000</td> <td>    1.322</td> <td>    1.374</td>\n",
       "</tr>\n",
       "</table>\n",
       "<table class=\"simpletable\">\n",
       "<tr>\n",
       "  <th>Ljung-Box (L1) (Q):</th>     <td>1.30</td>  <th>  Jarque-Bera (JB):  </th> <td>34014.66</td>\n",
       "</tr>\n",
       "<tr>\n",
       "  <th>Prob(Q):</th>                <td>0.25</td>  <th>  Prob(JB):          </th>   <td>0.00</td>  \n",
       "</tr>\n",
       "<tr>\n",
       "  <th>Heteroskedasticity (H):</th> <td>21.96</td> <th>  Skew:              </th>   <td>0.16</td>  \n",
       "</tr>\n",
       "<tr>\n",
       "  <th>Prob(H) (two-sided):</th>    <td>0.00</td>  <th>  Kurtosis:          </th>   <td>23.34</td> \n",
       "</tr>\n",
       "</table><br/><br/>Warnings:<br/>[1] Covariance matrix calculated using the outer product of gradients (complex-step)."
      ],
      "text/plain": [
       "<class 'statsmodels.iolib.summary.Summary'>\n",
       "\"\"\"\n",
       "                               SARIMAX Results                                \n",
       "==============================================================================\n",
       "Dep. Variable:                      y   No. Observations:                 1974\n",
       "Model:               SARIMAX(5, 2, 0)   Log Likelihood               -3093.336\n",
       "Date:                Thu, 09 Feb 2023   AIC                           6198.672\n",
       "Time:                        13:15:36   BIC                           6232.193\n",
       "Sample:                             0   HQIC                          6210.989\n",
       "                               - 1974                                         \n",
       "Covariance Type:                  opg                                         \n",
       "==============================================================================\n",
       "                 coef    std err          z      P>|z|      [0.025      0.975]\n",
       "------------------------------------------------------------------------------\n",
       "ar.L1         -0.9591      0.010    -96.075      0.000      -0.979      -0.939\n",
       "ar.L2         -0.7292      0.013    -55.964      0.000      -0.755      -0.704\n",
       "ar.L3         -0.5407      0.012    -44.900      0.000      -0.564      -0.517\n",
       "ar.L4         -0.3610      0.012    -30.115      0.000      -0.384      -0.338\n",
       "ar.L5         -0.1149      0.010    -11.898      0.000      -0.134      -0.096\n",
       "sigma2         1.3482      0.013    101.645      0.000       1.322       1.374\n",
       "===================================================================================\n",
       "Ljung-Box (L1) (Q):                   1.30   Jarque-Bera (JB):             34014.66\n",
       "Prob(Q):                              0.25   Prob(JB):                         0.00\n",
       "Heteroskedasticity (H):              21.96   Skew:                             0.16\n",
       "Prob(H) (two-sided):                  0.00   Kurtosis:                        23.34\n",
       "===================================================================================\n",
       "\n",
       "Warnings:\n",
       "[1] Covariance matrix calculated using the outer product of gradients (complex-step).\n",
       "\"\"\""
      ]
     },
     "execution_count": 101,
     "metadata": {},
     "output_type": "execute_result"
    }
   ],
   "source": [
    "model.summary()"
   ]
  },
  {
   "cell_type": "code",
   "execution_count": 116,
   "metadata": {},
   "outputs": [
    {
     "ename": "TypeError",
     "evalue": "fit() missing 1 required positional argument: 'y'",
     "output_type": "error",
     "traceback": [
      "\u001b[1;31m---------------------------------------------------------------------------\u001b[0m",
      "\u001b[1;31mTypeError\u001b[0m                                 Traceback (most recent call last)",
      "Input \u001b[1;32mIn [116]\u001b[0m, in \u001b[0;36m<cell line: 1>\u001b[1;34m()\u001b[0m\n\u001b[1;32m----> 1\u001b[0m model_fit\u001b[38;5;241m=\u001b[39m\u001b[43mmodel\u001b[49m\u001b[38;5;241;43m.\u001b[39;49m\u001b[43mfit\u001b[49m\u001b[43m(\u001b[49m\u001b[43m)\u001b[49m\n\u001b[0;32m      2\u001b[0m residuals\u001b[38;5;241m=\u001b[39mmodel_fit\u001b[38;5;241m.\u001b[39mresid\n",
      "\u001b[1;31mTypeError\u001b[0m: fit() missing 1 required positional argument: 'y'"
     ]
    }
   ],
   "source": [
    "model_fit=model.fit()\n",
    "residuals=model_fit.resid"
   ]
  },
  {
   "cell_type": "code",
   "execution_count": 111,
   "metadata": {},
   "outputs": [],
   "source": [
    "# Predict on the validation set\n",
    "predictions = pd.DataFrame(model.predict(n_periods=20),index =ttest.index)\n",
    "predictions.columns = ['Predictions']"
   ]
  },
  {
   "cell_type": "code",
   "execution_count": 112,
   "metadata": {},
   "outputs": [
    {
     "data": {
      "text/html": [
       "<div>\n",
       "<style scoped>\n",
       "    .dataframe tbody tr th:only-of-type {\n",
       "        vertical-align: middle;\n",
       "    }\n",
       "\n",
       "    .dataframe tbody tr th {\n",
       "        vertical-align: top;\n",
       "    }\n",
       "\n",
       "    .dataframe thead th {\n",
       "        text-align: right;\n",
       "    }\n",
       "</style>\n",
       "<table border=\"1\" class=\"dataframe\">\n",
       "  <thead>\n",
       "    <tr style=\"text-align: right;\">\n",
       "      <th></th>\n",
       "      <th>Predictions</th>\n",
       "    </tr>\n",
       "  </thead>\n",
       "  <tbody>\n",
       "    <tr>\n",
       "      <th>count</th>\n",
       "      <td>0.0</td>\n",
       "    </tr>\n",
       "    <tr>\n",
       "      <th>mean</th>\n",
       "      <td>NaN</td>\n",
       "    </tr>\n",
       "    <tr>\n",
       "      <th>std</th>\n",
       "      <td>NaN</td>\n",
       "    </tr>\n",
       "    <tr>\n",
       "      <th>min</th>\n",
       "      <td>NaN</td>\n",
       "    </tr>\n",
       "    <tr>\n",
       "      <th>25%</th>\n",
       "      <td>NaN</td>\n",
       "    </tr>\n",
       "    <tr>\n",
       "      <th>50%</th>\n",
       "      <td>NaN</td>\n",
       "    </tr>\n",
       "    <tr>\n",
       "      <th>75%</th>\n",
       "      <td>NaN</td>\n",
       "    </tr>\n",
       "    <tr>\n",
       "      <th>max</th>\n",
       "      <td>NaN</td>\n",
       "    </tr>\n",
       "  </tbody>\n",
       "</table>\n",
       "</div>"
      ],
      "text/plain": [
       "       Predictions\n",
       "count          0.0\n",
       "mean           NaN\n",
       "std            NaN\n",
       "min            NaN\n",
       "25%            NaN\n",
       "50%            NaN\n",
       "75%            NaN\n",
       "max            NaN"
      ]
     },
     "execution_count": 112,
     "metadata": {},
     "output_type": "execute_result"
    }
   ],
   "source": [
    "predictions.describe()"
   ]
  },
  {
   "cell_type": "code",
   "execution_count": null,
   "metadata": {},
   "outputs": [],
   "source": [
    "# Plot the predictions and real values\n",
    "\n",
    "plt.plot(ttest, label=\"Real Values\")\n",
    "plt.plot(predictions, label=\"Predictions\")\n",
    "plt.legend()\n",
    "plt.show()"
   ]
  },
  {
   "cell_type": "code",
   "execution_count": null,
   "metadata": {},
   "outputs": [],
   "source": [
    "\n",
    "\n",
    "# Predict on the validation set\n",
    "predictions = model.predict(n_periods=len(ttest))\n",
    "\n",
    "# Calculate the root mean squared error\n",
    "rmse = np.sqrt(mean_squared_error(ttest, predictions))\n",
    "print(\"RMSE:\", rmse)\n",
    "\n",
    "# Plot the predictions and real values\n",
    "plt.plot(ttest, label=\"Real Values\")\n",
    "plt.plot(predictions, label=\"Predictions\")\n",
    "plt.legend()\n",
    "plt.show()\n",
    "    "
   ]
  },
  {
   "cell_type": "code",
   "execution_count": null,
   "metadata": {},
   "outputs": [],
   "source": []
  },
  {
   "cell_type": "code",
   "execution_count": null,
   "metadata": {},
   "outputs": [],
   "source": []
  },
  {
   "cell_type": "code",
   "execution_count": null,
   "metadata": {},
   "outputs": [],
   "source": []
  },
  {
   "cell_type": "code",
   "execution_count": null,
   "metadata": {},
   "outputs": [],
   "source": []
  },
  {
   "cell_type": "code",
   "execution_count": null,
   "metadata": {},
   "outputs": [],
   "source": []
  },
  {
   "cell_type": "code",
   "execution_count": null,
   "metadata": {},
   "outputs": [],
   "source": []
  },
  {
   "cell_type": "code",
   "execution_count": null,
   "metadata": {},
   "outputs": [],
   "source": []
  },
  {
   "cell_type": "code",
   "execution_count": 17,
   "metadata": {
    "colab": {
     "base_uri": "https://localhost:8080/",
     "height": 206
    },
    "executionInfo": {
     "elapsed": 440,
     "status": "ok",
     "timestamp": 1675258740334,
     "user": {
      "displayName": "Maria Ogamba",
      "userId": "07447510251688465296"
     },
     "user_tz": -180
    },
    "id": "IuyN7ILhLoSi",
    "outputId": "33c2da64-7377-4d25-c43f-03b04b95c5f6"
   },
   "outputs": [],
   "source": [
    "#I don't think this part is necessary\n",
    "#df.reset_index(inplace = True)\n",
    "\n",
    "#df.head()"
   ]
  },
  {
   "cell_type": "code",
   "execution_count": 18,
   "metadata": {
    "colab": {
     "base_uri": "https://localhost:8080/"
    },
    "executionInfo": {
     "elapsed": 362,
     "status": "ok",
     "timestamp": 1675258744133,
     "user": {
      "displayName": "Maria Ogamba",
      "userId": "07447510251688465296"
     },
     "user_tz": -180
    },
    "id": "ofm99WDKLoSk",
    "outputId": "6b96b4f9-09b0-4288-90f5-9ab0b7faeba1"
   },
   "outputs": [
    {
     "name": "stdout",
     "output_type": "stream",
     "text": [
      "<class 'pandas.core.frame.DataFrame'>\n",
      "DatetimeIndex: 2517 entries, 2013-01-03 00:00:00-05:00 to 2022-12-30 00:00:00-05:00\n",
      "Data columns (total 7 columns):\n",
      " #   Column     Non-Null Count  Dtype  \n",
      "---  ------     --------------  -----  \n",
      " 0   Open       2517 non-null   float64\n",
      " 1   High       2517 non-null   float64\n",
      " 2   Low        2517 non-null   float64\n",
      " 3   Close      2517 non-null   float64\n",
      " 4   Adj Close  2517 non-null   float64\n",
      " 5   Volume     2517 non-null   int64  \n",
      " 6   Return     2517 non-null   float64\n",
      "dtypes: float64(6), int64(1)\n",
      "memory usage: 157.3 KB\n"
     ]
    }
   ],
   "source": [
    "df.info()"
   ]
  },
  {
   "cell_type": "code",
   "execution_count": 19,
   "metadata": {
    "colab": {
     "base_uri": "https://localhost:8080/",
     "height": 206
    },
    "executionInfo": {
     "elapsed": 369,
     "status": "ok",
     "timestamp": 1675258748705,
     "user": {
      "displayName": "Maria Ogamba",
      "userId": "07447510251688465296"
     },
     "user_tz": -180
    },
    "id": "KxelcRv1LoSl",
    "outputId": "b55e61f3-e105-4b9e-892e-309750550b73"
   },
   "outputs": [
    {
     "data": {
      "text/html": [
       "<div>\n",
       "<style scoped>\n",
       "    .dataframe tbody tr th:only-of-type {\n",
       "        vertical-align: middle;\n",
       "    }\n",
       "\n",
       "    .dataframe tbody tr th {\n",
       "        vertical-align: top;\n",
       "    }\n",
       "\n",
       "    .dataframe thead th {\n",
       "        text-align: right;\n",
       "    }\n",
       "</style>\n",
       "<table border=\"1\" class=\"dataframe\">\n",
       "  <thead>\n",
       "    <tr style=\"text-align: right;\">\n",
       "      <th></th>\n",
       "      <th>Open</th>\n",
       "      <th>High</th>\n",
       "      <th>Low</th>\n",
       "      <th>Close</th>\n",
       "      <th>Adj Close</th>\n",
       "      <th>Volume</th>\n",
       "      <th>Return</th>\n",
       "      <th>MA15</th>\n",
       "      <th>MA50</th>\n",
       "    </tr>\n",
       "    <tr>\n",
       "      <th>Date</th>\n",
       "      <th></th>\n",
       "      <th></th>\n",
       "      <th></th>\n",
       "      <th></th>\n",
       "      <th></th>\n",
       "      <th></th>\n",
       "      <th></th>\n",
       "      <th></th>\n",
       "      <th></th>\n",
       "    </tr>\n",
       "  </thead>\n",
       "  <tbody>\n",
       "    <tr>\n",
       "      <th>2013-03-15 00:00:00-04:00</th>\n",
       "      <td>15.640357</td>\n",
       "      <td>15.865357</td>\n",
       "      <td>15.616071</td>\n",
       "      <td>15.845000</td>\n",
       "      <td>13.705924</td>\n",
       "      <td>643960800</td>\n",
       "      <td>2.580344</td>\n",
       "      <td>15.519452</td>\n",
       "      <td>16.660743</td>\n",
       "    </tr>\n",
       "    <tr>\n",
       "      <th>2013-03-18 00:00:00-04:00</th>\n",
       "      <td>15.766071</td>\n",
       "      <td>16.337856</td>\n",
       "      <td>15.757143</td>\n",
       "      <td>16.275715</td>\n",
       "      <td>14.078492</td>\n",
       "      <td>606197200</td>\n",
       "      <td>2.718300</td>\n",
       "      <td>15.550214</td>\n",
       "      <td>16.599043</td>\n",
       "    </tr>\n",
       "    <tr>\n",
       "      <th>2013-03-19 00:00:00-04:00</th>\n",
       "      <td>16.410713</td>\n",
       "      <td>16.463215</td>\n",
       "      <td>16.017857</td>\n",
       "      <td>16.231787</td>\n",
       "      <td>14.040490</td>\n",
       "      <td>526775200</td>\n",
       "      <td>-0.269900</td>\n",
       "      <td>15.563357</td>\n",
       "      <td>16.547250</td>\n",
       "    </tr>\n",
       "    <tr>\n",
       "      <th>2013-03-20 00:00:00-04:00</th>\n",
       "      <td>16.336430</td>\n",
       "      <td>16.343929</td>\n",
       "      <td>16.056786</td>\n",
       "      <td>16.145714</td>\n",
       "      <td>13.966041</td>\n",
       "      <td>308660800</td>\n",
       "      <td>-0.530274</td>\n",
       "      <td>15.581238</td>\n",
       "      <td>16.495950</td>\n",
       "    </tr>\n",
       "    <tr>\n",
       "      <th>2013-03-21 00:00:00-04:00</th>\n",
       "      <td>16.079287</td>\n",
       "      <td>16.356428</td>\n",
       "      <td>16.075001</td>\n",
       "      <td>16.168928</td>\n",
       "      <td>13.986120</td>\n",
       "      <td>383255600</td>\n",
       "      <td>0.143780</td>\n",
       "      <td>15.608214</td>\n",
       "      <td>16.444107</td>\n",
       "    </tr>\n",
       "  </tbody>\n",
       "</table>\n",
       "</div>"
      ],
      "text/plain": [
       "                                Open       High        Low      Close  \\\n",
       "Date                                                                    \n",
       "2013-03-15 00:00:00-04:00  15.640357  15.865357  15.616071  15.845000   \n",
       "2013-03-18 00:00:00-04:00  15.766071  16.337856  15.757143  16.275715   \n",
       "2013-03-19 00:00:00-04:00  16.410713  16.463215  16.017857  16.231787   \n",
       "2013-03-20 00:00:00-04:00  16.336430  16.343929  16.056786  16.145714   \n",
       "2013-03-21 00:00:00-04:00  16.079287  16.356428  16.075001  16.168928   \n",
       "\n",
       "                           Adj Close     Volume    Return       MA15  \\\n",
       "Date                                                                   \n",
       "2013-03-15 00:00:00-04:00  13.705924  643960800  2.580344  15.519452   \n",
       "2013-03-18 00:00:00-04:00  14.078492  606197200  2.718300  15.550214   \n",
       "2013-03-19 00:00:00-04:00  14.040490  526775200 -0.269900  15.563357   \n",
       "2013-03-20 00:00:00-04:00  13.966041  308660800 -0.530274  15.581238   \n",
       "2013-03-21 00:00:00-04:00  13.986120  383255600  0.143780  15.608214   \n",
       "\n",
       "                                MA50  \n",
       "Date                                  \n",
       "2013-03-15 00:00:00-04:00  16.660743  \n",
       "2013-03-18 00:00:00-04:00  16.599043  \n",
       "2013-03-19 00:00:00-04:00  16.547250  \n",
       "2013-03-20 00:00:00-04:00  16.495950  \n",
       "2013-03-21 00:00:00-04:00  16.444107  "
      ]
     },
     "execution_count": 19,
     "metadata": {},
     "output_type": "execute_result"
    }
   ],
   "source": [
    "df['MA15'] = df['Close'].rolling(15).mean()\n",
    "df['MA50'] = df['Close'].rolling(50).mean()\n",
    "\n",
    "df = df.dropna()\n",
    "df.head()"
   ]
  },
  {
   "cell_type": "code",
   "execution_count": 20,
   "metadata": {
    "colab": {
     "base_uri": "https://localhost:8080/",
     "height": 206
    },
    "executionInfo": {
     "elapsed": 386,
     "status": "ok",
     "timestamp": 1675258763046,
     "user": {
      "displayName": "Maria Ogamba",
      "userId": "07447510251688465296"
     },
     "user_tz": -180
    },
    "id": "sNgWml-LLoSm",
    "outputId": "2e8ad565-80e3-4751-d4ff-5c6a1c7d4d75"
   },
   "outputs": [
    {
     "data": {
      "text/html": [
       "<div>\n",
       "<style scoped>\n",
       "    .dataframe tbody tr th:only-of-type {\n",
       "        vertical-align: middle;\n",
       "    }\n",
       "\n",
       "    .dataframe tbody tr th {\n",
       "        vertical-align: top;\n",
       "    }\n",
       "\n",
       "    .dataframe thead th {\n",
       "        text-align: right;\n",
       "    }\n",
       "</style>\n",
       "<table border=\"1\" class=\"dataframe\">\n",
       "  <thead>\n",
       "    <tr style=\"text-align: right;\">\n",
       "      <th></th>\n",
       "      <th>Open</th>\n",
       "      <th>High</th>\n",
       "      <th>Low</th>\n",
       "      <th>Close</th>\n",
       "      <th>Adj Close</th>\n",
       "      <th>Volume</th>\n",
       "      <th>Return</th>\n",
       "      <th>MA15</th>\n",
       "      <th>MA50</th>\n",
       "      <th>Position</th>\n",
       "    </tr>\n",
       "    <tr>\n",
       "      <th>Date</th>\n",
       "      <th></th>\n",
       "      <th></th>\n",
       "      <th></th>\n",
       "      <th></th>\n",
       "      <th></th>\n",
       "      <th></th>\n",
       "      <th></th>\n",
       "      <th></th>\n",
       "      <th></th>\n",
       "      <th></th>\n",
       "    </tr>\n",
       "  </thead>\n",
       "  <tbody>\n",
       "    <tr>\n",
       "      <th>2013-03-15 00:00:00-04:00</th>\n",
       "      <td>15.640357</td>\n",
       "      <td>15.865357</td>\n",
       "      <td>15.616071</td>\n",
       "      <td>15.845000</td>\n",
       "      <td>13.705924</td>\n",
       "      <td>643960800</td>\n",
       "      <td>2.580344</td>\n",
       "      <td>15.519452</td>\n",
       "      <td>16.660743</td>\n",
       "      <td>0</td>\n",
       "    </tr>\n",
       "    <tr>\n",
       "      <th>2013-03-18 00:00:00-04:00</th>\n",
       "      <td>15.766071</td>\n",
       "      <td>16.337856</td>\n",
       "      <td>15.757143</td>\n",
       "      <td>16.275715</td>\n",
       "      <td>14.078492</td>\n",
       "      <td>606197200</td>\n",
       "      <td>2.718300</td>\n",
       "      <td>15.550214</td>\n",
       "      <td>16.599043</td>\n",
       "      <td>0</td>\n",
       "    </tr>\n",
       "    <tr>\n",
       "      <th>2013-03-19 00:00:00-04:00</th>\n",
       "      <td>16.410713</td>\n",
       "      <td>16.463215</td>\n",
       "      <td>16.017857</td>\n",
       "      <td>16.231787</td>\n",
       "      <td>14.040490</td>\n",
       "      <td>526775200</td>\n",
       "      <td>-0.269900</td>\n",
       "      <td>15.563357</td>\n",
       "      <td>16.547250</td>\n",
       "      <td>0</td>\n",
       "    </tr>\n",
       "    <tr>\n",
       "      <th>2013-03-20 00:00:00-04:00</th>\n",
       "      <td>16.336430</td>\n",
       "      <td>16.343929</td>\n",
       "      <td>16.056786</td>\n",
       "      <td>16.145714</td>\n",
       "      <td>13.966041</td>\n",
       "      <td>308660800</td>\n",
       "      <td>-0.530274</td>\n",
       "      <td>15.581238</td>\n",
       "      <td>16.495950</td>\n",
       "      <td>0</td>\n",
       "    </tr>\n",
       "    <tr>\n",
       "      <th>2013-03-21 00:00:00-04:00</th>\n",
       "      <td>16.079287</td>\n",
       "      <td>16.356428</td>\n",
       "      <td>16.075001</td>\n",
       "      <td>16.168928</td>\n",
       "      <td>13.986120</td>\n",
       "      <td>383255600</td>\n",
       "      <td>0.143780</td>\n",
       "      <td>15.608214</td>\n",
       "      <td>16.444107</td>\n",
       "      <td>0</td>\n",
       "    </tr>\n",
       "  </tbody>\n",
       "</table>\n",
       "</div>"
      ],
      "text/plain": [
       "                                Open       High        Low      Close  \\\n",
       "Date                                                                    \n",
       "2013-03-15 00:00:00-04:00  15.640357  15.865357  15.616071  15.845000   \n",
       "2013-03-18 00:00:00-04:00  15.766071  16.337856  15.757143  16.275715   \n",
       "2013-03-19 00:00:00-04:00  16.410713  16.463215  16.017857  16.231787   \n",
       "2013-03-20 00:00:00-04:00  16.336430  16.343929  16.056786  16.145714   \n",
       "2013-03-21 00:00:00-04:00  16.079287  16.356428  16.075001  16.168928   \n",
       "\n",
       "                           Adj Close     Volume    Return       MA15  \\\n",
       "Date                                                                   \n",
       "2013-03-15 00:00:00-04:00  13.705924  643960800  2.580344  15.519452   \n",
       "2013-03-18 00:00:00-04:00  14.078492  606197200  2.718300  15.550214   \n",
       "2013-03-19 00:00:00-04:00  14.040490  526775200 -0.269900  15.563357   \n",
       "2013-03-20 00:00:00-04:00  13.966041  308660800 -0.530274  15.581238   \n",
       "2013-03-21 00:00:00-04:00  13.986120  383255600  0.143780  15.608214   \n",
       "\n",
       "                                MA50  Position  \n",
       "Date                                            \n",
       "2013-03-15 00:00:00-04:00  16.660743         0  \n",
       "2013-03-18 00:00:00-04:00  16.599043         0  \n",
       "2013-03-19 00:00:00-04:00  16.547250         0  \n",
       "2013-03-20 00:00:00-04:00  16.495950         0  \n",
       "2013-03-21 00:00:00-04:00  16.444107         0  "
      ]
     },
     "execution_count": 20,
     "metadata": {},
     "output_type": "execute_result"
    }
   ],
   "source": [
    "df2 = df.copy()\n",
    "\n",
    "conditions = [df2['MA15'] > df2['MA50'], \n",
    "              df2['MA15'] < df2['MA50']]\n",
    "\n",
    "choices = [1, 0]\n",
    "\n",
    "df2['Position']= np.select(conditions, choices)\n",
    "df2.head()"
   ]
  },
  {
   "cell_type": "code",
   "execution_count": 21,
   "metadata": {
    "executionInfo": {
     "elapsed": 461,
     "status": "ok",
     "timestamp": 1675258769722,
     "user": {
      "displayName": "Maria Ogamba",
      "userId": "07447510251688465296"
     },
     "user_tz": -180
    },
    "id": "ptB9HVPuLoSp"
   },
   "outputs": [],
   "source": [
    "\n",
    "# First we calculate the daily profit.\n",
    "df2['Close_Next'] = df2['Close'].shift(-1)\n",
    "df2['Profit'] = [df2.loc[i, 'Close_Next'] - df2.loc[i, 'Close'] if df2.loc[i, 'Position']==1 else 0 for i in df2.index]\n",
    "\n",
    "#Then the cumulative profit with cumsum() method\n",
    "df2['Cum_Profit'] = df2['Profit'].cumsum()"
   ]
  },
  {
   "cell_type": "code",
   "execution_count": 22,
   "metadata": {
    "colab": {
     "base_uri": "https://localhost:8080/",
     "height": 542
    },
    "executionInfo": {
     "elapsed": 2159,
     "status": "ok",
     "timestamp": 1675258774871,
     "user": {
      "displayName": "Maria Ogamba",
      "userId": "07447510251688465296"
     },
     "user_tz": -180
    },
    "id": "rc3cAgHQLoSr",
    "outputId": "02add8c6-5e43-4de5-82cc-cee9b3d809e9"
   },
   "outputs": [
    {
     "ename": "ValueError",
     "evalue": "Value of 'x' is not the name of a column in 'data_frame'. Expected one of ['Open', 'High', 'Low', 'Close', 'Adj Close', 'Volume', 'Return', 'MA15', 'MA50', 'Position', 'Close_Next', 'Profit', 'Cum_Profit'] but received: Date",
     "output_type": "error",
     "traceback": [
      "\u001b[1;31m---------------------------------------------------------------------------\u001b[0m",
      "\u001b[1;31mValueError\u001b[0m                                Traceback (most recent call last)",
      "Input \u001b[1;32mIn [22]\u001b[0m, in \u001b[0;36m<cell line: 1>\u001b[1;34m()\u001b[0m\n\u001b[1;32m----> 1\u001b[0m fig \u001b[38;5;241m=\u001b[39m \u001b[43mpx\u001b[49m\u001b[38;5;241;43m.\u001b[39;49m\u001b[43mline\u001b[49m\u001b[43m(\u001b[49m\u001b[43mdf2\u001b[49m\u001b[43m,\u001b[49m\u001b[43m \u001b[49m\u001b[43mx\u001b[49m\u001b[38;5;241;43m=\u001b[39;49m\u001b[38;5;124;43m'\u001b[39;49m\u001b[38;5;124;43mDate\u001b[39;49m\u001b[38;5;124;43m'\u001b[39;49m\u001b[43m,\u001b[49m\u001b[43m \u001b[49m\u001b[43my\u001b[49m\u001b[38;5;241;43m=\u001b[39;49m\u001b[38;5;124;43m'\u001b[39;49m\u001b[38;5;124;43mCum_Profit\u001b[39;49m\u001b[38;5;124;43m'\u001b[39;49m\u001b[43m,\u001b[49m\u001b[43m \u001b[49m\u001b[43mtitle\u001b[49m\u001b[38;5;241;43m=\u001b[39;49m\u001b[38;5;124;43m'\u001b[39;49m\u001b[38;5;124;43mApple Inc Stock Price Cumulative Profit\u001b[39;49m\u001b[38;5;124;43m'\u001b[39;49m\u001b[43m)\u001b[49m\n\u001b[0;32m      2\u001b[0m fig\u001b[38;5;241m.\u001b[39mshow()\n",
      "File \u001b[1;32m~\\anaconda3\\lib\\site-packages\\plotly\\express\\_chart_types.py:264\u001b[0m, in \u001b[0;36mline\u001b[1;34m(data_frame, x, y, line_group, color, line_dash, symbol, hover_name, hover_data, custom_data, text, facet_row, facet_col, facet_col_wrap, facet_row_spacing, facet_col_spacing, error_x, error_x_minus, error_y, error_y_minus, animation_frame, animation_group, category_orders, labels, orientation, color_discrete_sequence, color_discrete_map, line_dash_sequence, line_dash_map, symbol_sequence, symbol_map, markers, log_x, log_y, range_x, range_y, line_shape, render_mode, title, template, width, height)\u001b[0m\n\u001b[0;32m    216\u001b[0m \u001b[38;5;28;01mdef\u001b[39;00m \u001b[38;5;21mline\u001b[39m(\n\u001b[0;32m    217\u001b[0m     data_frame\u001b[38;5;241m=\u001b[39m\u001b[38;5;28;01mNone\u001b[39;00m,\n\u001b[0;32m    218\u001b[0m     x\u001b[38;5;241m=\u001b[39m\u001b[38;5;28;01mNone\u001b[39;00m,\n\u001b[1;32m   (...)\u001b[0m\n\u001b[0;32m    258\u001b[0m     height\u001b[38;5;241m=\u001b[39m\u001b[38;5;28;01mNone\u001b[39;00m,\n\u001b[0;32m    259\u001b[0m ) \u001b[38;5;241m-\u001b[39m\u001b[38;5;241m>\u001b[39m go\u001b[38;5;241m.\u001b[39mFigure:\n\u001b[0;32m    260\u001b[0m     \u001b[38;5;124;03m\"\"\"\u001b[39;00m\n\u001b[0;32m    261\u001b[0m \u001b[38;5;124;03m    In a 2D line plot, each row of `data_frame` is represented as vertex of\u001b[39;00m\n\u001b[0;32m    262\u001b[0m \u001b[38;5;124;03m    a polyline mark in 2D space.\u001b[39;00m\n\u001b[0;32m    263\u001b[0m \u001b[38;5;124;03m    \"\"\"\u001b[39;00m\n\u001b[1;32m--> 264\u001b[0m     \u001b[38;5;28;01mreturn\u001b[39;00m \u001b[43mmake_figure\u001b[49m\u001b[43m(\u001b[49m\u001b[43margs\u001b[49m\u001b[38;5;241;43m=\u001b[39;49m\u001b[38;5;28;43mlocals\u001b[39;49m\u001b[43m(\u001b[49m\u001b[43m)\u001b[49m\u001b[43m,\u001b[49m\u001b[43m \u001b[49m\u001b[43mconstructor\u001b[49m\u001b[38;5;241;43m=\u001b[39;49m\u001b[43mgo\u001b[49m\u001b[38;5;241;43m.\u001b[39;49m\u001b[43mScatter\u001b[49m\u001b[43m)\u001b[49m\n",
      "File \u001b[1;32m~\\anaconda3\\lib\\site-packages\\plotly\\express\\_core.py:1990\u001b[0m, in \u001b[0;36mmake_figure\u001b[1;34m(args, constructor, trace_patch, layout_patch)\u001b[0m\n\u001b[0;32m   1987\u001b[0m layout_patch \u001b[38;5;241m=\u001b[39m layout_patch \u001b[38;5;129;01mor\u001b[39;00m {}\n\u001b[0;32m   1988\u001b[0m apply_default_cascade(args)\n\u001b[1;32m-> 1990\u001b[0m args \u001b[38;5;241m=\u001b[39m \u001b[43mbuild_dataframe\u001b[49m\u001b[43m(\u001b[49m\u001b[43margs\u001b[49m\u001b[43m,\u001b[49m\u001b[43m \u001b[49m\u001b[43mconstructor\u001b[49m\u001b[43m)\u001b[49m\n\u001b[0;32m   1991\u001b[0m \u001b[38;5;28;01mif\u001b[39;00m constructor \u001b[38;5;129;01min\u001b[39;00m [go\u001b[38;5;241m.\u001b[39mTreemap, go\u001b[38;5;241m.\u001b[39mSunburst, go\u001b[38;5;241m.\u001b[39mIcicle] \u001b[38;5;129;01mand\u001b[39;00m args[\u001b[38;5;124m\"\u001b[39m\u001b[38;5;124mpath\u001b[39m\u001b[38;5;124m\"\u001b[39m] \u001b[38;5;129;01mis\u001b[39;00m \u001b[38;5;129;01mnot\u001b[39;00m \u001b[38;5;28;01mNone\u001b[39;00m:\n\u001b[0;32m   1992\u001b[0m     args \u001b[38;5;241m=\u001b[39m process_dataframe_hierarchy(args)\n",
      "File \u001b[1;32m~\\anaconda3\\lib\\site-packages\\plotly\\express\\_core.py:1405\u001b[0m, in \u001b[0;36mbuild_dataframe\u001b[1;34m(args, constructor)\u001b[0m\n\u001b[0;32m   1402\u001b[0m     args[\u001b[38;5;124m\"\u001b[39m\u001b[38;5;124mcolor\u001b[39m\u001b[38;5;124m\"\u001b[39m] \u001b[38;5;241m=\u001b[39m \u001b[38;5;28;01mNone\u001b[39;00m\n\u001b[0;32m   1403\u001b[0m \u001b[38;5;66;03m# now that things have been prepped, we do the systematic rewriting of `args`\u001b[39;00m\n\u001b[1;32m-> 1405\u001b[0m df_output, wide_id_vars \u001b[38;5;241m=\u001b[39m \u001b[43mprocess_args_into_dataframe\u001b[49m\u001b[43m(\u001b[49m\n\u001b[0;32m   1406\u001b[0m \u001b[43m    \u001b[49m\u001b[43margs\u001b[49m\u001b[43m,\u001b[49m\u001b[43m \u001b[49m\u001b[43mwide_mode\u001b[49m\u001b[43m,\u001b[49m\u001b[43m \u001b[49m\u001b[43mvar_name\u001b[49m\u001b[43m,\u001b[49m\u001b[43m \u001b[49m\u001b[43mvalue_name\u001b[49m\n\u001b[0;32m   1407\u001b[0m \u001b[43m\u001b[49m\u001b[43m)\u001b[49m\n\u001b[0;32m   1409\u001b[0m \u001b[38;5;66;03m# now that `df_output` exists and `args` contains only references, we complete\u001b[39;00m\n\u001b[0;32m   1410\u001b[0m \u001b[38;5;66;03m# the special-case and wide-mode handling by further rewriting args and/or mutating\u001b[39;00m\n\u001b[0;32m   1411\u001b[0m \u001b[38;5;66;03m# df_output\u001b[39;00m\n\u001b[0;32m   1413\u001b[0m count_name \u001b[38;5;241m=\u001b[39m _escape_col_name(df_output, \u001b[38;5;124m\"\u001b[39m\u001b[38;5;124mcount\u001b[39m\u001b[38;5;124m\"\u001b[39m, [var_name, value_name])\n",
      "File \u001b[1;32m~\\anaconda3\\lib\\site-packages\\plotly\\express\\_core.py:1207\u001b[0m, in \u001b[0;36mprocess_args_into_dataframe\u001b[1;34m(args, wide_mode, var_name, value_name)\u001b[0m\n\u001b[0;32m   1205\u001b[0m         \u001b[38;5;28;01mif\u001b[39;00m argument \u001b[38;5;241m==\u001b[39m \u001b[38;5;124m\"\u001b[39m\u001b[38;5;124mindex\u001b[39m\u001b[38;5;124m\"\u001b[39m:\n\u001b[0;32m   1206\u001b[0m             err_msg \u001b[38;5;241m+\u001b[39m\u001b[38;5;241m=\u001b[39m \u001b[38;5;124m\"\u001b[39m\u001b[38;5;130;01m\\n\u001b[39;00m\u001b[38;5;124m To use the index, pass it in directly as `df.index`.\u001b[39m\u001b[38;5;124m\"\u001b[39m\n\u001b[1;32m-> 1207\u001b[0m         \u001b[38;5;28;01mraise\u001b[39;00m \u001b[38;5;167;01mValueError\u001b[39;00m(err_msg)\n\u001b[0;32m   1208\u001b[0m \u001b[38;5;28;01melif\u001b[39;00m length \u001b[38;5;129;01mand\u001b[39;00m \u001b[38;5;28mlen\u001b[39m(df_input[argument]) \u001b[38;5;241m!=\u001b[39m length:\n\u001b[0;32m   1209\u001b[0m     \u001b[38;5;28;01mraise\u001b[39;00m \u001b[38;5;167;01mValueError\u001b[39;00m(\n\u001b[0;32m   1210\u001b[0m         \u001b[38;5;124m\"\u001b[39m\u001b[38;5;124mAll arguments should have the same length. \u001b[39m\u001b[38;5;124m\"\u001b[39m\n\u001b[0;32m   1211\u001b[0m         \u001b[38;5;124m\"\u001b[39m\u001b[38;5;124mThe length of column argument `df[\u001b[39m\u001b[38;5;132;01m%s\u001b[39;00m\u001b[38;5;124m]` is \u001b[39m\u001b[38;5;132;01m%d\u001b[39;00m\u001b[38;5;124m, whereas the \u001b[39m\u001b[38;5;124m\"\u001b[39m\n\u001b[1;32m   (...)\u001b[0m\n\u001b[0;32m   1218\u001b[0m         )\n\u001b[0;32m   1219\u001b[0m     )\n",
      "\u001b[1;31mValueError\u001b[0m: Value of 'x' is not the name of a column in 'data_frame'. Expected one of ['Open', 'High', 'Low', 'Close', 'Adj Close', 'Volume', 'Return', 'MA15', 'MA50', 'Position', 'Close_Next', 'Profit', 'Cum_Profit'] but received: Date"
     ]
    }
   ],
   "source": [
    "fig = px.line(df2, x='Date', y='Cum_Profit', title='Apple Inc Stock Price Cumulative Profit')\n",
    "fig.show()"
   ]
  },
  {
   "cell_type": "code",
   "execution_count": null,
   "metadata": {
    "colab": {
     "base_uri": "https://localhost:8080/",
     "height": 542
    },
    "executionInfo": {
     "elapsed": 25,
     "status": "ok",
     "timestamp": 1675258779069,
     "user": {
      "displayName": "Maria Ogamba",
      "userId": "07447510251688465296"
     },
     "user_tz": -180
    },
    "id": "UL7eMVy7LoT0",
    "outputId": "885032ff-32c6-4dfa-f06c-d59052343629"
   },
   "outputs": [],
   "source": [
    "df3 = df.copy()\n",
    "\n",
    "fig = px.scatter(x=df3['Close'][:-5], y=df3['Close'][5:], title='Apple Stock Price Lag Plot', labels={'x': 'Price (lag=0)', 'y': 'Price (lag=5)'})\n",
    "fig.show()"
   ]
  },
  {
   "cell_type": "code",
   "execution_count": null,
   "metadata": {
    "colab": {
     "base_uri": "https://localhost:8080/",
     "height": 542
    },
    "executionInfo": {
     "elapsed": 529,
     "status": "ok",
     "timestamp": 1675258788072,
     "user": {
      "displayName": "Maria Ogamba",
      "userId": "07447510251688465296"
     },
     "user_tz": -180
    },
    "id": "av6ij5YjLoT3",
    "outputId": "1acf3fb4-493e-4098-91ad-bf3345782568"
   },
   "outputs": [],
   "source": [
    "fig = px.line(df3, x='Date', y='Close', title='Apple Inc Stock Price over time')\n",
    "\n",
    "\n",
    "fig.show()"
   ]
  },
  {
   "cell_type": "code",
   "execution_count": null,
   "metadata": {
    "colab": {
     "base_uri": "https://localhost:8080/",
     "height": 542
    },
    "executionInfo": {
     "elapsed": 1072,
     "status": "ok",
     "timestamp": 1675258802771,
     "user": {
      "displayName": "Maria Ogamba",
      "userId": "07447510251688465296"
     },
     "user_tz": -180
    },
    "id": "16AhYoO_LoT5",
    "outputId": "710ed96b-fd4f-434d-fb38-552a607ec8f7"
   },
   "outputs": [],
   "source": [
    "hist_data = [df3.Close]\n",
    "\n",
    "group_labels = ['Apple Inc']\n",
    "\n",
    "fig = ff.create_distplot(hist_data, group_labels, show_hist=False)\n",
    "\n",
    "fig.show()"
   ]
  },
  {
   "cell_type": "code",
   "execution_count": null,
   "metadata": {
    "colab": {
     "base_uri": "https://localhost:8080/"
    },
    "executionInfo": {
     "elapsed": 400,
     "status": "ok",
     "timestamp": 1675258808348,
     "user": {
      "displayName": "Maria Ogamba",
      "userId": "07447510251688465296"
     },
     "user_tz": -180
    },
    "id": "lIUoGCQ5LoT7",
    "outputId": "eb52b74f-6096-4897-d7af-c5c55bfd9f14"
   },
   "outputs": [],
   "source": [
    "X = df3.Close\n",
    "result = adfuller(X)\n",
    "\n",
    "print('ADF Statistic: %f' % result[0])\n",
    "print('p-value: %f' % result[1])\n",
    "print('Critical Values:')\n",
    "for key, value in result[4].items():\n",
    "    print('\\t%s: %.3f' % (key, value))"
   ]
  },
  {
   "cell_type": "markdown",
   "metadata": {
    "id": "kSpv5WSBLoT9"
   },
   "source": [
    "p-value > 0.05: Fail to reject the null hypothesis (H0), the data has a unit root and is non-stationary"
   ]
  },
  {
   "cell_type": "code",
   "execution_count": null,
   "metadata": {
    "colab": {
     "base_uri": "https://localhost:8080/"
    },
    "executionInfo": {
     "elapsed": 831,
     "status": "ok",
     "timestamp": 1675258813695,
     "user": {
      "displayName": "Maria Ogamba",
      "userId": "07447510251688465296"
     },
     "user_tz": -180
    },
    "id": "Uro3ecwcLoUX",
    "outputId": "214fd7c7-a16d-4d1b-b7bc-fc2d20c216e2"
   },
   "outputs": [],
   "source": [
    "X = df3.Close\n",
    "X = log(X)\n",
    "result = adfuller(X)\n",
    "print('ADF Statistic: %f' % result[0])\n",
    "print('p-value: %f' % result[1])\n",
    "for key, value in result[4].items():\n",
    " print('\\t%s: %.3f' % (key, value))"
   ]
  }
 ],
 "metadata": {
  "colab": {
   "provenance": []
  },
  "kernelspec": {
   "display_name": "Python 3 (ipykernel)",
   "language": "python",
   "name": "python3"
  },
  "language_info": {
   "codemirror_mode": {
    "name": "ipython",
    "version": 3
   },
   "file_extension": ".py",
   "mimetype": "text/x-python",
   "name": "python",
   "nbconvert_exporter": "python",
   "pygments_lexer": "ipython3",
   "version": "3.9.12"
  },
  "vscode": {
   "interpreter": {
    "hash": "8f4772fb8d0d0fc471f8f5e8549051ae93ea4573f2199bbcfc44c563ee8a19e1"
   }
  }
 },
 "nbformat": 4,
 "nbformat_minor": 1
}
